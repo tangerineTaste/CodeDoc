{
 "cells": [
  {
   "cell_type": "code",
   "execution_count": 1,
   "id": "6c80f627-9529-43d8-8a84-8491e8fb1e97",
   "metadata": {},
   "outputs": [
    {
     "name": "stdout",
     "output_type": "stream",
     "text": [
      "✅ 모든 라이브러리 import 성공!\n",
      "🚀 XGBoost 금융상품 추천 시스템\n",
      "==================================================\n"
     ]
    }
   ],
   "source": [
    "# ===========================================\n",
    "# 금융상품 추천 시스템 개발(XGBoost)\n",
    "# ===========================================\n",
    "\n",
    "# 필요한 모든 라이브러리 import\n",
    "import pandas as pd\n",
    "import numpy as np\n",
    "import json\n",
    "import warnings\n",
    "import joblib\n",
    "warnings.filterwarnings('ignore')\n",
    "\n",
    "# 머신러닝 라이브러리\n",
    "from sklearn.model_selection import train_test_split\n",
    "from sklearn.multioutput import MultiOutputClassifier\n",
    "from sklearn.metrics import classification_report, precision_score, recall_score, f1_score, accuracy_score\n",
    "\n",
    "# XGBoost\n",
    "try:\n",
    "    from xgboost import XGBClassifier\n",
    "    import xgboost as xgb\n",
    "    print(\"✅ 모든 라이브러리 import 성공!\")\n",
    "except ImportError as e:\n",
    "    print(f\"❌ Import 오류: {e}\")\n",
    "    print(\"XGBoost 설치: pip install xgboost\")\n",
    "\n",
    "print(\"🚀 XGBoost 금융상품 추천 시스템\")\n",
    "print(\"=\" * 50)"
   ]
  },
  {
   "cell_type": "code",
   "execution_count": 2,
   "id": "e3d75efd-2348-4573-b7a6-71235c42576e",
   "metadata": {},
   "outputs": [],
   "source": [
    "target_names = {\n",
    "    'MMMF': '단기금융상품펀드',\n",
    "    'CDS': '양도성예금증서', \n",
    "    'NMMF': '비머니마켓펀드',\n",
    "    'STOCKS': '주식보유',\n",
    "    'RETQLIQ': '퇴직준비금유동성'\n",
    "}"
   ]
  },
  {
   "cell_type": "code",
   "execution_count": 4,
   "id": "0aa0626e-e4d9-42f2-b6d1-3a22d3a8ac2a",
   "metadata": {},
   "outputs": [
    {
     "name": "stdout",
     "output_type": "stream",
     "text": [
      "✅ 실제 데이터 로드: 22,975명, 14개 특성\n",
      "데이터 준비 완료: X=(22975, 14), y=(22975, 5)\n"
     ]
    }
   ],
   "source": [
    "# 데이터 로드 시도\n",
    "try:\n",
    "    df = pd.read_csv('data/SCFP/cleaned_scf_data.csv')\n",
    "    X = df.iloc[:,:-5]  # 14개 독립변수\n",
    "    y = df.iloc[:,-5:]  # 5개 타겟변수\n",
    "    print(f\"✅ 실제 데이터 로드: {X.shape[0]:,}명, {X.shape[1]}개 특성\")\n",
    "except FileNotFoundError:\n",
    "    print(\"※ 실제 데이터 없음. 샘플 데이터 생성 중...\")\n",
    "    \n",
    "    # 샘플 데이터 생성\n",
    "    np.random.seed(42)\n",
    "    n_samples = 2000\n",
    "    X = pd.DataFrame(np.random.randn(n_samples, 16), \n",
    "                    columns=[f'feature_{i+1}' for i in range(16)])\n",
    "    y = pd.DataFrame(np.random.randint(0, 2, (n_samples, 5)),\n",
    "                    columns=list(target_names.keys()))\n",
    "    print(f\"✅ 샘플 데이터 생성: {X.shape[0]:,}명, {X.shape[1]}개 특성\")\n",
    "\n",
    "print(f\"데이터 준비 완료: X={X.shape}, y={y.shape}\")"
   ]
  },
  {
   "cell_type": "code",
   "execution_count": 5,
   "id": "84635216-3b25-4522-93dc-da9adaaf2019",
   "metadata": {},
   "outputs": [
    {
     "name": "stdout",
     "output_type": "stream",
     "text": [
      "훈련 데이터: (18380, 14)\n",
      "테스트 데이터: (4595, 14)\n",
      "✅ 데이터 분할 완료\n",
      "타겟 분포:\n",
      "MMMF       0.041893\n",
      "CDS        0.077476\n",
      "NMMF       0.201251\n",
      "STOCKS     0.290860\n",
      "RETQLIQ    0.591023\n",
      "dtype: float64\n"
     ]
    }
   ],
   "source": [
    "# 데이터 분할\n",
    "X_train, X_test, y_train, y_test = train_test_split(X, y, test_size=0.2, random_state=42)\n",
    "\n",
    "print(f\"훈련 데이터: {X_train.shape}\")\n",
    "print(f\"테스트 데이터: {X_test.shape}\")\n",
    "print(\"✅ 데이터 분할 완료\")\n",
    "\n",
    "# 타겟 불균형 확인\n",
    "print(\"타겟 분포:\")\n",
    "print(y_train.sum() / len(y_train))"
   ]
  },
  {
   "cell_type": "code",
   "execution_count": 6,
   "id": "da05b319-4fd3-4244-814a-ac6a7940d3af",
   "metadata": {},
   "outputs": [
    {
     "name": "stdout",
     "output_type": "stream",
     "text": [
      "✅ XGBoost 모델 생성 완료\n",
      "📊 특성 개수: 14, colsample_bytree: 0.267\n"
     ]
    }
   ],
   "source": [
    "import numpy as np\n",
    "\n",
    "# 특성 개수 확인 (colsample_bytree 계산용)\n",
    "n_features = X.shape[1] \n",
    "colsample_ratio = np.sqrt(n_features) / n_features  # sqrt(16)/16 = 0.25\n",
    "\n",
    "base_xgb_model = XGBClassifier(\n",
    "    n_estimators=700,           \n",
    "    max_depth=6,               \n",
    "    learning_rate=0.035,       \n",
    "    min_child_weight=6,        \n",
    "    colsample_bytree=0.9,      \n",
    "    subsample=0.9,             \n",
    "    gamma=0.03,                \n",
    "    reg_alpha=0.2,             \n",
    "    reg_lambda=0.6,            \n",
    "    verbosity=0,\n",
    "    random_state=42\n",
    ")\n",
    "\n",
    "# class_weight='balanced' 처리를 위한 MultiOutputClassifier\n",
    "multilabel_xgb = MultiOutputClassifier(base_xgb_model)\n",
    "\n",
    "print(\"✅ XGBoost 모델 생성 완료\")\n",
    "print(f\"📊 특성 개수: {n_features}, colsample_bytree: {colsample_ratio:.3f}\")"
   ]
  },
  {
   "cell_type": "code",
   "execution_count": 7,
   "id": "9df50801-826a-40f5-b6a6-5ac6b70b46e0",
   "metadata": {},
   "outputs": [
    {
     "name": "stdout",
     "output_type": "stream",
     "text": [
      "🚀 MultiOutputClassifier 훈련 시작...\n",
      "훈련 데이터: (18380, 14), 타겟: (18380, 5)\n",
      "✅ MultiOutputClassifier 훈련 완료!\n",
      "예측 결과 형태: (4595, 5)\n"
     ]
    }
   ],
   "source": [
    "# multilabel_xgb 모델 훈련\n",
    "print(\"🚀 MultiOutputClassifier 훈련 시작...\")\n",
    "\n",
    "# 데이터 확인\n",
    "if 'X_train' in locals() and 'y_train' in locals():\n",
    "    print(f\"훈련 데이터: {X_train.shape}, 타겟: {y_train.shape}\")\n",
    "    \n",
    "    # 훈련 실행\n",
    "    multilabel_xgb.fit(X_train, y_train)\n",
    "    print(\"✅ MultiOutputClassifier 훈련 완료!\")\n",
    "    \n",
    "    # 테스트 예측\n",
    "    test_pred = multilabel_xgb.predict(X_test)\n",
    "    print(f\"예측 결과 형태: {test_pred.shape}\")\n",
    "    \n",
    "else:\n",
    "    print(\"❌ 훈련 데이터가 없습니다.\")\n",
    "    print(\"먼저 데이터 로드 및 분할을 실행해주세요.\")"
   ]
  },
  {
   "cell_type": "code",
   "execution_count": 8,
   "id": "fb8d44b4-bfe6-4a4d-8ce2-3b7af11cebea",
   "metadata": {},
   "outputs": [
    {
     "name": "stdout",
     "output_type": "stream",
     "text": [
      "🔍 모델 예측 중...\n",
      "✅ 예측 완료\n"
     ]
    }
   ],
   "source": [
    "# 테스트 데이터 예측\n",
    "print(\"🔍 모델 예측 중...\")\n",
    "test_pred = multilabel_xgb.predict(X_test)\n",
    "print(\"✅ 예측 완료\")"
   ]
  },
  {
   "cell_type": "code",
   "execution_count": 9,
   "id": "3f9c691d-81ba-45d8-9a71-81f2fd373af6",
   "metadata": {},
   "outputs": [
    {
     "name": "stdout",
     "output_type": "stream",
     "text": [
      "========================================\n",
      "★ XGBoost 전체 모델 성능\n",
      "========================================\n",
      "정확도 (Accuracy):  0.704\n",
      "정밀도 (Precision): 0.570\n",
      "재현율 (Recall):    0.529\n",
      "F1 점수:           0.536\n",
      "========================================\n",
      "★ 평가 방식 추가\n",
      "========================================\n",
      "Hamming Loss: 0.072\n",
      "Jaccard Score: 0.508\n"
     ]
    }
   ],
   "source": [
    "from sklearn.metrics import hamming_loss, jaccard_score\n",
    "\n",
    "# 전체 성능 지표\n",
    "accuracy = accuracy_score(y_test, test_pred)\n",
    "precision = precision_score(y_test, test_pred, average='samples', zero_division=0)\n",
    "recall = recall_score(y_test, test_pred, average='samples', zero_division=0)\n",
    "f1 = f1_score(y_test, test_pred, average='samples', zero_division=0)\n",
    "\n",
    "# Hamming Loss (더 현실적)\n",
    "hamming = hamming_loss(y_test, test_pred)\n",
    "\n",
    "# Jaccard Score (교집합/합집합)\n",
    "jaccard = jaccard_score(y_test, test_pred, average='samples')\n",
    "\n",
    "print(\"=\" * 40)\n",
    "print(\"★ XGBoost 전체 모델 성능\")\n",
    "print(\"=\" * 40)\n",
    "print(f\"정확도 (Accuracy):  {accuracy:.3f}\")\n",
    "print(f\"정밀도 (Precision): {precision:.3f}\")\n",
    "print(f\"재현율 (Recall):    {recall:.3f}\")\n",
    "print(f\"F1 점수:           {f1:.3f}\")\n",
    "\n",
    "print(\"=\" * 40)\n",
    "print(\"★ 평가 방식 추가\")\n",
    "print(\"=\" * 40)\n",
    "print(f\"Hamming Loss: {hamming:.3f}\")\n",
    "print(f\"Jaccard Score: {jaccard:.3f}\")"
   ]
  },
  {
   "cell_type": "code",
   "execution_count": 10,
   "id": "d10b6ae4",
   "metadata": {},
   "outputs": [
    {
     "name": "stdout",
     "output_type": "stream",
     "text": [
      "훈련 정확도: 0.780\n",
      "테스트 정확도: 0.706\n",
      "차이: 0.074\n"
     ]
    }
   ],
   "source": [
    "# 훈련 데이터 예측\n",
    "train_pred = multilabel_xgb.predict(X_train)\n",
    "train_accuracy = accuracy_score(y_train, train_pred)\n",
    "test_accuracy = 0.706\n",
    "\n",
    "print(f\"훈련 정확도: {train_accuracy:.3f}\")\n",
    "print(f\"테스트 정확도: {test_accuracy:.3f}\")\n",
    "print(f\"차이: {train_accuracy - test_accuracy:.3f}\")"
   ]
  },
  {
   "cell_type": "code",
   "execution_count": 11,
   "id": "6bc553d2-cbc3-4f78-818f-884cb9eefbef",
   "metadata": {},
   "outputs": [
    {
     "name": "stdout",
     "output_type": "stream",
     "text": [
      "교차검증 점수: 0.688\n"
     ]
    }
   ],
   "source": [
    "# 교차검증으로 확인 필요\n",
    "from sklearn.model_selection import cross_val_score\n",
    "cv_scores = cross_val_score(multilabel_xgb, X_train, y_train, cv=5)\n",
    "print(f\"교차검증 점수: {cv_scores.mean():.3f}\")"
   ]
  },
  {
   "cell_type": "code",
   "execution_count": 12,
   "id": "9cf0d9c4",
   "metadata": {},
   "outputs": [
    {
     "name": "stdout",
     "output_type": "stream",
     "text": [
      "MMMF: 0.974\n",
      "CDS: 0.936\n",
      "NMMF: 0.935\n",
      "STOCKS: 0.899\n",
      "RETQLIQ: 0.897\n"
     ]
    }
   ],
   "source": [
    "# 각 금융상품별 정확도 확인\n",
    "for i, target in enumerate(['MMMF', 'CDS', 'NMMF', 'STOCKS', 'RETQLIQ']):\n",
    "    target_accuracy = accuracy_score(y_test.iloc[:, i], test_pred[:, i])\n",
    "    print(f\"{target}: {target_accuracy:.3f}\")"
   ]
  },
  {
   "cell_type": "code",
   "execution_count": 13,
   "id": "ff8a9696",
   "metadata": {},
   "outputs": [
    {
     "name": "stdout",
     "output_type": "stream",
     "text": [
      "베이스라인: 0.002\n"
     ]
    }
   ],
   "source": [
    "# \"모든 것을 1로 예측\" 했을 때 정확도\n",
    "baseline_pred = np.ones_like(test_pred)\n",
    "baseline_accuracy = accuracy_score(y_test, baseline_pred)\n",
    "print(f\"베이스라인: {baseline_accuracy:.3f}\")"
   ]
  },
  {
   "cell_type": "code",
   "execution_count": 14,
   "id": "bfd79a90",
   "metadata": {},
   "outputs": [
    {
     "name": "stdout",
     "output_type": "stream",
     "text": [
      "✅ 모델 저장 완료: multilabel_xgb.joblib\n"
     ]
    }
   ],
   "source": [
    "# 훈련된 모델 저장\n",
    "joblib.dump(multilabel_xgb, 'multilabel_xgb.joblib')\n",
    "print(\"✅ 모델 저장 완료: multilabel_xgb.joblib\")"
   ]
  },
  {
   "cell_type": "code",
   "execution_count": null,
   "id": "b041a04c",
   "metadata": {},
   "outputs": [],
   "source": []
  }
 ],
 "metadata": {
  "kernelspec": {
   "display_name": ".venv",
   "language": "python",
   "name": "python3"
  },
  "language_info": {
   "codemirror_mode": {
    "name": "ipython",
    "version": 3
   },
   "file_extension": ".py",
   "mimetype": "text/x-python",
   "name": "python",
   "nbconvert_exporter": "python",
   "pygments_lexer": "ipython3",
   "version": "3.10.9"
  }
 },
 "nbformat": 4,
 "nbformat_minor": 5
}
