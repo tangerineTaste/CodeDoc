{
 "cells": [
  {
   "cell_type": "markdown",
   "id": "a40871ce",
   "metadata": {},
   "source": [
    "# 0. 패키지 임포트"
   ]
  },
  {
   "cell_type": "code",
   "execution_count": 225,
   "id": "e50ef3e2",
   "metadata": {},
   "outputs": [],
   "source": [
    "import pandas as pd\n",
    "import numpy as np\n",
    "from sklearn.model_selection import train_test_split\n",
    "from sklearn.preprocessing import StandardScaler, OneHotEncoder\n",
    "from sklearn.compose import ColumnTransformer\n",
    "from sklearn.pipeline import Pipeline\n",
    "from sklearn.metrics import classification_report, roc_auc_score\n",
    "from sklearn.utils.class_weight import compute_class_weight\n",
    "\n",
    "import tensorflow as tf\n",
    "from keras.models import Sequential\n",
    "from keras.layers import Dense, Dropout\n",
    "from keras.callbacks import EarlyStopping\n",
    "from keras.initializers import Constant"
   ]
  },
  {
   "cell_type": "markdown",
   "id": "aa084557",
   "metadata": {},
   "source": [
    "# 1. 데이터 준비"
   ]
  },
  {
   "cell_type": "code",
   "execution_count": 226,
   "id": "c77e1a83",
   "metadata": {},
   "outputs": [],
   "source": [
    "df = pd.read_csv('cleaned_scf_data.csv')"
   ]
  },
  {
   "cell_type": "code",
   "execution_count": 227,
   "id": "bd65f2bf",
   "metadata": {},
   "outputs": [],
   "source": [
    "target_cols = ['CDS', 'NMMF', 'STOCKS', 'RETQLIQ','MMMF']\n",
    "for col in target_cols:\n",
    "    df[col] = (df[col] > 0).astype(int)\n",
    "\n",
    "y = df[target_cols]"
   ]
  },
  {
   "cell_type": "code",
   "execution_count": 228,
   "id": "02552d33",
   "metadata": {},
   "outputs": [],
   "source": [
    "numerical_cols = ['연령','자녀수','급여소득','사업농업소득','자본이득소득']\n",
    "categorical_cols = ['교육수준','결혼상태','직업분류1','금융위험감수']\n",
    "\n",
    "X = df[numerical_cols + categorical_cols]"
   ]
  },
  {
   "cell_type": "code",
   "execution_count": 229,
   "id": "973e555c",
   "metadata": {},
   "outputs": [],
   "source": [
    "preprocessor = ColumnTransformer(transformers=[('num', StandardScaler(), numerical_cols),\n",
    "                                               ('cat', OneHotEncoder(handle_unknown='ignore', sparse_output=False), categorical_cols)])"
   ]
  },
  {
   "cell_type": "code",
   "execution_count": 230,
   "id": "07311f2a",
   "metadata": {},
   "outputs": [],
   "source": [
    "X_train, X_test, y_train, y_test = train_test_split(X, y, test_size=0.2)\n",
    "\n",
    "X_train_processed = preprocessor.fit_transform(X_train)\n",
    "X_test_processed = preprocessor.transform(X_test)"
   ]
  },
  {
   "cell_type": "code",
   "execution_count": 231,
   "id": "0f15a93b",
   "metadata": {},
   "outputs": [
    {
     "name": "stdout",
     "output_type": "stream",
     "text": [
      "\n",
      "--- 각 상품별 초기 편향 설정값 ---\n",
      "CDS            : -2.4741\n",
      "NMMF           : -1.3704\n",
      "STOCKS         : -0.8888\n",
      "RETQLIQ        : 0.3847\n",
      "MMMF           : -3.1217\n"
     ]
    }
   ],
   "source": [
    "initial_biases = []\n",
    "for col in target_cols:\n",
    "    pos = np.sum(y_train[col] == 1)\n",
    "    neg = np.sum(y_train[col] == 0)\n",
    "    initial_bias = np.log([pos / (neg + 1e-7)])\n",
    "    initial_biases.append(initial_bias[0])\n",
    "\n",
    "print(\"\\n--- 각 상품별 초기 편향 설정값 ---\")\n",
    "for i, col in enumerate(target_cols):\n",
    "    print(f\"{col:<15}: {initial_biases[i]:.4f}\")"
   ]
  },
  {
   "cell_type": "code",
   "execution_count": 232,
   "id": "6861a153",
   "metadata": {},
   "outputs": [
    {
     "name": "stdout",
     "output_type": "stream",
     "text": [
      "CDS: ratio=0.078, weights={0: 0.37948324681453516, 1: 4.504901960784314}\n",
      "NMMF: ratio=0.203, weights={0: 0.627004161833936, 1: 2.468439430566747}\n",
      "STOCKS: ratio=0.291, weights={0: 0.7055662188099808, 1: 1.7161531279178337}\n",
      "RETQLIQ: ratio=0.595, weights={0: 1.2345513164965072, 1: 0.840343818580834}\n",
      "MMMF: ratio=0.042, weights={0: 0.7225236642168399, 1: 3.4413345529248733}\n"
     ]
    }
   ],
   "source": [
    "custom_class_weights = {}\n",
    "\n",
    "for col in target_cols:\n",
    "    pos_ratio = (y_train[col] == 1).sum() / len(y_train[col])\n",
    "    \n",
    "    if pos_ratio < 0.05:  # MMMF\n",
    "        weights = compute_class_weight('balanced', \n",
    "                                      classes=np.unique(y_train[col]), \n",
    "                                      y=y_train[col])\n",
    "        weights = np.sqrt(weights)  # 극단값 완화\n",
    "        \n",
    "    elif pos_ratio < 0.2:  # CDS, NMMF\n",
    "        weights = compute_class_weight('balanced', \n",
    "                                      classes=np.unique(y_train[col]), \n",
    "                                      y=y_train[col])\n",
    "        weights = weights * 0.7  # 약간 완화\n",
    "        \n",
    "    else:  # STOCKS, RETQLIQ\n",
    "        weights = compute_class_weight('balanced', \n",
    "                                      classes=np.unique(y_train[col]), \n",
    "                                      y=y_train[col])\n",
    "    \n",
    "    custom_class_weights[col] = dict(zip(np.unique(y_train[col]), weights))\n",
    "    print(f\"{col}: ratio={pos_ratio:.3f}, weights={custom_class_weights[col]}\")  # 전체 출력"
   ]
  },
  {
   "cell_type": "markdown",
   "id": "4c608e65",
   "metadata": {},
   "source": [
    "# 2. 모델 학습"
   ]
  },
  {
   "cell_type": "code",
   "execution_count": 233,
   "id": "96cb8850",
   "metadata": {},
   "outputs": [],
   "source": [
    "from keras.layers import BatchNormalization\n",
    "\n",
    "model = Sequential([\n",
    "    Dense(256, activation='relu', input_shape=(X_train_processed.shape[1],)),\n",
    "    BatchNormalization(),  # 추가\n",
    "    Dropout(0.25),  # 0.3 -> 0.25\n",
    "    Dense(128, activation='relu'),\n",
    "    BatchNormalization(),  # 추가\n",
    "    Dropout(0.25),  # 0.3 -> 0.25\n",
    "    Dense(64, activation='relu'),\n",
    "    Dropout(0.2),  # 0.3 -> 0.2\n",
    "    Dense(len(target_cols), activation='sigmoid', bias_initializer=Constant(initial_biases))\n",
    "])"
   ]
  },
  {
   "cell_type": "code",
   "execution_count": 234,
   "id": "d26a1c0a",
   "metadata": {},
   "outputs": [],
   "source": [
    "sample_weights = np.ones((len(y_train), len(target_cols)))\n",
    "for i, col in enumerate(target_cols):\n",
    "    for j, class_val in enumerate(y_train[col]):\n",
    "        sample_weights[j, i] = custom_class_weights[col][class_val]\n",
    "\n",
    "# 평균 대신 조화평균 사용\n",
    "epsilon = 1e-10\n",
    "final_sample_weights = len(target_cols) / np.sum(1.0 / (sample_weights + epsilon), axis=1)\n",
    "\n",
    "# 극단값 제한\n",
    "final_sample_weights = np.clip(final_sample_weights, 0.5, 3.0)"
   ]
  },
  {
   "cell_type": "code",
   "execution_count": 235,
   "id": "1fedf3e5",
   "metadata": {},
   "outputs": [
    {
     "name": "stdout",
     "output_type": "stream",
     "text": [
      "Model: \"sequential_8\"\n",
      "_________________________________________________________________\n",
      " Layer (type)                Output Shape              Param #   \n",
      "=================================================================\n",
      " dense_30 (Dense)            (None, 256)               7424      \n",
      "                                                                 \n",
      " batch_normalization (BatchN  (None, 256)              1024      \n",
      " ormalization)                                                   \n",
      "                                                                 \n",
      " dropout_22 (Dropout)        (None, 256)               0         \n",
      "                                                                 \n",
      " dense_31 (Dense)            (None, 128)               32896     \n",
      "                                                                 \n",
      " batch_normalization_1 (Batc  (None, 128)              512       \n",
      " hNormalization)                                                 \n",
      "                                                                 \n",
      " dropout_23 (Dropout)        (None, 128)               0         \n",
      "                                                                 \n",
      " dense_32 (Dense)            (None, 64)                8256      \n",
      "                                                                 \n",
      " dropout_24 (Dropout)        (None, 64)                0         \n",
      "                                                                 \n",
      " dense_33 (Dense)            (None, 5)                 325       \n",
      "                                                                 \n",
      "=================================================================\n",
      "Total params: 50,437\n",
      "Trainable params: 49,669\n",
      "Non-trainable params: 768\n",
      "_________________________________________________________________\n"
     ]
    }
   ],
   "source": [
    "model.compile(loss='binary_crossentropy', optimizer='adam', metrics=['accuracy', tf.keras.metrics.AUC(name='auc')])\n",
    "\n",
    "model.summary()"
   ]
  },
  {
   "cell_type": "code",
   "execution_count": 236,
   "id": "cf222c9f",
   "metadata": {},
   "outputs": [
    {
     "name": "stdout",
     "output_type": "stream",
     "text": [
      "Epoch 1/50\n",
      "453/460 [============================>.] - ETA: 0s - loss: 0.3113 - accuracy: 0.2664 - auc: 0.8416WARNING:tensorflow:`evaluate()` received a value for `sample_weight`, but `weighted_metrics` were not provided.  Did you mean to pass metrics to `weighted_metrics` in `compile()`?  If this is intentional you can pass `weighted_metrics=[]` to `compile()` in order to silence this warning.\n",
      "460/460 [==============================] - 3s 5ms/step - loss: 0.3106 - accuracy: 0.2665 - auc: 0.8420 - val_loss: 0.2766 - val_accuracy: 0.2495 - val_auc: 0.8783\n",
      "Epoch 2/50\n",
      "437/460 [===========================>..] - ETA: 0s - loss: 0.2846 - accuracy: 0.2726 - auc: 0.8681WARNING:tensorflow:`evaluate()` received a value for `sample_weight`, but `weighted_metrics` were not provided.  Did you mean to pass metrics to `weighted_metrics` in `compile()`?  If this is intentional you can pass `weighted_metrics=[]` to `compile()` in order to silence this warning.\n",
      "460/460 [==============================] - 1s 3ms/step - loss: 0.2848 - accuracy: 0.2716 - auc: 0.8683 - val_loss: 0.2654 - val_accuracy: 0.2544 - val_auc: 0.8864\n",
      "Epoch 3/50\n",
      "449/460 [============================>.] - ETA: 0s - loss: 0.2775 - accuracy: 0.2724 - auc: 0.8752WARNING:tensorflow:`evaluate()` received a value for `sample_weight`, but `weighted_metrics` were not provided.  Did you mean to pass metrics to `weighted_metrics` in `compile()`?  If this is intentional you can pass `weighted_metrics=[]` to `compile()` in order to silence this warning.\n",
      "460/460 [==============================] - 1s 2ms/step - loss: 0.2780 - accuracy: 0.2712 - auc: 0.8748 - val_loss: 0.2625 - val_accuracy: 0.2527 - val_auc: 0.8901\n",
      "Epoch 4/50\n",
      "440/460 [===========================>..] - ETA: 0s - loss: 0.2736 - accuracy: 0.2719 - auc: 0.8788WARNING:tensorflow:`evaluate()` received a value for `sample_weight`, but `weighted_metrics` were not provided.  Did you mean to pass metrics to `weighted_metrics` in `compile()`?  If this is intentional you can pass `weighted_metrics=[]` to `compile()` in order to silence this warning.\n",
      "460/460 [==============================] - 1s 3ms/step - loss: 0.2738 - accuracy: 0.2724 - auc: 0.8789 - val_loss: 0.2589 - val_accuracy: 0.2516 - val_auc: 0.8930\n",
      "Epoch 5/50\n",
      "448/460 [============================>.] - ETA: 0s - loss: 0.2703 - accuracy: 0.2723 - auc: 0.8825WARNING:tensorflow:`evaluate()` received a value for `sample_weight`, but `weighted_metrics` were not provided.  Did you mean to pass metrics to `weighted_metrics` in `compile()`?  If this is intentional you can pass `weighted_metrics=[]` to `compile()` in order to silence this warning.\n",
      "460/460 [==============================] - 1s 3ms/step - loss: 0.2706 - accuracy: 0.2720 - auc: 0.8821 - val_loss: 0.2598 - val_accuracy: 0.2552 - val_auc: 0.8935\n",
      "Epoch 6/50\n",
      "443/460 [===========================>..] - ETA: 0s - loss: 0.2689 - accuracy: 0.2722 - auc: 0.8835WARNING:tensorflow:`evaluate()` received a value for `sample_weight`, but `weighted_metrics` were not provided.  Did you mean to pass metrics to `weighted_metrics` in `compile()`?  If this is intentional you can pass `weighted_metrics=[]` to `compile()` in order to silence this warning.\n",
      "460/460 [==============================] - 1s 2ms/step - loss: 0.2687 - accuracy: 0.2713 - auc: 0.8838 - val_loss: 0.2573 - val_accuracy: 0.2546 - val_auc: 0.8952\n",
      "Epoch 7/50\n",
      "442/460 [===========================>..] - ETA: 0s - loss: 0.2667 - accuracy: 0.2739 - auc: 0.8852WARNING:tensorflow:`evaluate()` received a value for `sample_weight`, but `weighted_metrics` were not provided.  Did you mean to pass metrics to `weighted_metrics` in `compile()`?  If this is intentional you can pass `weighted_metrics=[]` to `compile()` in order to silence this warning.\n",
      "460/460 [==============================] - 1s 2ms/step - loss: 0.2662 - accuracy: 0.2731 - auc: 0.8859 - val_loss: 0.2551 - val_accuracy: 0.2568 - val_auc: 0.8959\n",
      "Epoch 8/50\n",
      "460/460 [==============================] - ETA: 0s - loss: 0.2640 - accuracy: 0.2699 - auc: 0.8875WARNING:tensorflow:`evaluate()` received a value for `sample_weight`, but `weighted_metrics` were not provided.  Did you mean to pass metrics to `weighted_metrics` in `compile()`?  If this is intentional you can pass `weighted_metrics=[]` to `compile()` in order to silence this warning.\n",
      "460/460 [==============================] - 1s 3ms/step - loss: 0.2640 - accuracy: 0.2699 - auc: 0.8875 - val_loss: 0.2538 - val_accuracy: 0.2571 - val_auc: 0.8982\n",
      "Epoch 9/50\n",
      "457/460 [============================>.] - ETA: 0s - loss: 0.2615 - accuracy: 0.2704 - auc: 0.8903WARNING:tensorflow:`evaluate()` received a value for `sample_weight`, but `weighted_metrics` were not provided.  Did you mean to pass metrics to `weighted_metrics` in `compile()`?  If this is intentional you can pass `weighted_metrics=[]` to `compile()` in order to silence this warning.\n",
      "460/460 [==============================] - 1s 3ms/step - loss: 0.2614 - accuracy: 0.2707 - auc: 0.8903 - val_loss: 0.2533 - val_accuracy: 0.2582 - val_auc: 0.8982\n",
      "Epoch 10/50\n",
      "442/460 [===========================>..] - ETA: 0s - loss: 0.2599 - accuracy: 0.2743 - auc: 0.8911WARNING:tensorflow:`evaluate()` received a value for `sample_weight`, but `weighted_metrics` were not provided.  Did you mean to pass metrics to `weighted_metrics` in `compile()`?  If this is intentional you can pass `weighted_metrics=[]` to `compile()` in order to silence this warning.\n",
      "460/460 [==============================] - 1s 3ms/step - loss: 0.2601 - accuracy: 0.2732 - auc: 0.8910 - val_loss: 0.2507 - val_accuracy: 0.2587 - val_auc: 0.8990\n",
      "Epoch 11/50\n",
      "446/460 [============================>.] - ETA: 0s - loss: 0.2588 - accuracy: 0.2751 - auc: 0.8920WARNING:tensorflow:`evaluate()` received a value for `sample_weight`, but `weighted_metrics` were not provided.  Did you mean to pass metrics to `weighted_metrics` in `compile()`?  If this is intentional you can pass `weighted_metrics=[]` to `compile()` in order to silence this warning.\n",
      "460/460 [==============================] - 1s 2ms/step - loss: 0.2588 - accuracy: 0.2751 - auc: 0.8922 - val_loss: 0.2499 - val_accuracy: 0.2549 - val_auc: 0.9001\n",
      "Epoch 12/50\n",
      "438/460 [===========================>..] - ETA: 0s - loss: 0.2577 - accuracy: 0.2738 - auc: 0.8934WARNING:tensorflow:`evaluate()` received a value for `sample_weight`, but `weighted_metrics` were not provided.  Did you mean to pass metrics to `weighted_metrics` in `compile()`?  If this is intentional you can pass `weighted_metrics=[]` to `compile()` in order to silence this warning.\n",
      "460/460 [==============================] - 1s 3ms/step - loss: 0.2572 - accuracy: 0.2739 - auc: 0.8936 - val_loss: 0.2511 - val_accuracy: 0.2571 - val_auc: 0.8990\n",
      "Epoch 13/50\n",
      "456/460 [============================>.] - ETA: 0s - loss: 0.2554 - accuracy: 0.2773 - auc: 0.8950WARNING:tensorflow:`evaluate()` received a value for `sample_weight`, but `weighted_metrics` were not provided.  Did you mean to pass metrics to `weighted_metrics` in `compile()`?  If this is intentional you can pass `weighted_metrics=[]` to `compile()` in order to silence this warning.\n",
      "460/460 [==============================] - 1s 3ms/step - loss: 0.2553 - accuracy: 0.2775 - auc: 0.8951 - val_loss: 0.2485 - val_accuracy: 0.2576 - val_auc: 0.9015\n",
      "Epoch 14/50\n",
      "451/460 [============================>.] - ETA: 0s - loss: 0.2544 - accuracy: 0.2785 - auc: 0.8958WARNING:tensorflow:`evaluate()` received a value for `sample_weight`, but `weighted_metrics` were not provided.  Did you mean to pass metrics to `weighted_metrics` in `compile()`?  If this is intentional you can pass `weighted_metrics=[]` to `compile()` in order to silence this warning.\n",
      "460/460 [==============================] - 1s 2ms/step - loss: 0.2544 - accuracy: 0.2787 - auc: 0.8958 - val_loss: 0.2468 - val_accuracy: 0.2606 - val_auc: 0.9026\n",
      "Epoch 15/50\n",
      "447/460 [============================>.] - ETA: 0s - loss: 0.2528 - accuracy: 0.2774 - auc: 0.8969WARNING:tensorflow:`evaluate()` received a value for `sample_weight`, but `weighted_metrics` were not provided.  Did you mean to pass metrics to `weighted_metrics` in `compile()`?  If this is intentional you can pass `weighted_metrics=[]` to `compile()` in order to silence this warning.\n",
      "460/460 [==============================] - 1s 2ms/step - loss: 0.2532 - accuracy: 0.2769 - auc: 0.8965 - val_loss: 0.2469 - val_accuracy: 0.2628 - val_auc: 0.9023\n",
      "Epoch 16/50\n",
      "440/460 [===========================>..] - ETA: 0s - loss: 0.2520 - accuracy: 0.2781 - auc: 0.8977WARNING:tensorflow:`evaluate()` received a value for `sample_weight`, but `weighted_metrics` were not provided.  Did you mean to pass metrics to `weighted_metrics` in `compile()`?  If this is intentional you can pass `weighted_metrics=[]` to `compile()` in order to silence this warning.\n",
      "460/460 [==============================] - 1s 3ms/step - loss: 0.2519 - accuracy: 0.2774 - auc: 0.8977 - val_loss: 0.2427 - val_accuracy: 0.2587 - val_auc: 0.9049\n",
      "Epoch 17/50\n",
      "457/460 [============================>.] - ETA: 0s - loss: 0.2515 - accuracy: 0.2804 - auc: 0.8980WARNING:tensorflow:`evaluate()` received a value for `sample_weight`, but `weighted_metrics` were not provided.  Did you mean to pass metrics to `weighted_metrics` in `compile()`?  If this is intentional you can pass `weighted_metrics=[]` to `compile()` in order to silence this warning.\n",
      "460/460 [==============================] - 1s 3ms/step - loss: 0.2517 - accuracy: 0.2809 - auc: 0.8980 - val_loss: 0.2423 - val_accuracy: 0.2693 - val_auc: 0.9058\n",
      "Epoch 18/50\n",
      "456/460 [============================>.] - ETA: 0s - loss: 0.2508 - accuracy: 0.2847 - auc: 0.8987WARNING:tensorflow:`evaluate()` received a value for `sample_weight`, but `weighted_metrics` were not provided.  Did you mean to pass metrics to `weighted_metrics` in `compile()`?  If this is intentional you can pass `weighted_metrics=[]` to `compile()` in order to silence this warning.\n",
      "460/460 [==============================] - 1s 3ms/step - loss: 0.2508 - accuracy: 0.2851 - auc: 0.8986 - val_loss: 0.2412 - val_accuracy: 0.2709 - val_auc: 0.9070\n",
      "Epoch 19/50\n",
      "453/460 [============================>.] - ETA: 0s - loss: 0.2478 - accuracy: 0.2850 - auc: 0.9011WARNING:tensorflow:`evaluate()` received a value for `sample_weight`, but `weighted_metrics` were not provided.  Did you mean to pass metrics to `weighted_metrics` in `compile()`?  If this is intentional you can pass `weighted_metrics=[]` to `compile()` in order to silence this warning.\n",
      "460/460 [==============================] - 1s 2ms/step - loss: 0.2478 - accuracy: 0.2849 - auc: 0.9011 - val_loss: 0.2431 - val_accuracy: 0.2655 - val_auc: 0.9060\n",
      "Epoch 20/50\n",
      "442/460 [===========================>..] - ETA: 0s - loss: 0.2479 - accuracy: 0.2867 - auc: 0.9008WARNING:tensorflow:`evaluate()` received a value for `sample_weight`, but `weighted_metrics` were not provided.  Did you mean to pass metrics to `weighted_metrics` in `compile()`?  If this is intentional you can pass `weighted_metrics=[]` to `compile()` in order to silence this warning.\n",
      "460/460 [==============================] - 1s 2ms/step - loss: 0.2476 - accuracy: 0.2859 - auc: 0.9011 - val_loss: 0.2416 - val_accuracy: 0.2739 - val_auc: 0.9070\n",
      "Epoch 21/50\n",
      "447/460 [============================>.] - ETA: 0s - loss: 0.2462 - accuracy: 0.2837 - auc: 0.9024WARNING:tensorflow:`evaluate()` received a value for `sample_weight`, but `weighted_metrics` were not provided.  Did you mean to pass metrics to `weighted_metrics` in `compile()`?  If this is intentional you can pass `weighted_metrics=[]` to `compile()` in order to silence this warning.\n",
      "460/460 [==============================] - 1s 2ms/step - loss: 0.2468 - accuracy: 0.2833 - auc: 0.9021 - val_loss: 0.2390 - val_accuracy: 0.2650 - val_auc: 0.9076\n",
      "Epoch 22/50\n",
      "447/460 [============================>.] - ETA: 0s - loss: 0.2452 - accuracy: 0.2841 - auc: 0.9035WARNING:tensorflow:`evaluate()` received a value for `sample_weight`, but `weighted_metrics` were not provided.  Did you mean to pass metrics to `weighted_metrics` in `compile()`?  If this is intentional you can pass `weighted_metrics=[]` to `compile()` in order to silence this warning.\n",
      "460/460 [==============================] - 1s 2ms/step - loss: 0.2454 - accuracy: 0.2833 - auc: 0.9034 - val_loss: 0.2393 - val_accuracy: 0.2699 - val_auc: 0.9089\n",
      "Epoch 23/50\n",
      "456/460 [============================>.] - ETA: 0s - loss: 0.2445 - accuracy: 0.2867 - auc: 0.9038WARNING:tensorflow:`evaluate()` received a value for `sample_weight`, but `weighted_metrics` were not provided.  Did you mean to pass metrics to `weighted_metrics` in `compile()`?  If this is intentional you can pass `weighted_metrics=[]` to `compile()` in order to silence this warning.\n",
      "460/460 [==============================] - 1s 3ms/step - loss: 0.2445 - accuracy: 0.2867 - auc: 0.9037 - val_loss: 0.2379 - val_accuracy: 0.2715 - val_auc: 0.9098\n",
      "Epoch 24/50\n",
      "450/460 [============================>.] - ETA: 0s - loss: 0.2442 - accuracy: 0.2857 - auc: 0.9044WARNING:tensorflow:`evaluate()` received a value for `sample_weight`, but `weighted_metrics` were not provided.  Did you mean to pass metrics to `weighted_metrics` in `compile()`?  If this is intentional you can pass `weighted_metrics=[]` to `compile()` in order to silence this warning.\n",
      "460/460 [==============================] - 1s 2ms/step - loss: 0.2437 - accuracy: 0.2857 - auc: 0.9046 - val_loss: 0.2373 - val_accuracy: 0.2701 - val_auc: 0.9107\n",
      "Epoch 25/50\n",
      "460/460 [==============================] - ETA: 0s - loss: 0.2434 - accuracy: 0.2884 - auc: 0.9045WARNING:tensorflow:`evaluate()` received a value for `sample_weight`, but `weighted_metrics` were not provided.  Did you mean to pass metrics to `weighted_metrics` in `compile()`?  If this is intentional you can pass `weighted_metrics=[]` to `compile()` in order to silence this warning.\n",
      "460/460 [==============================] - 1s 3ms/step - loss: 0.2434 - accuracy: 0.2884 - auc: 0.9045 - val_loss: 0.2365 - val_accuracy: 0.2715 - val_auc: 0.9100\n",
      "Epoch 26/50\n",
      "447/460 [============================>.] - ETA: 0s - loss: 0.2410 - accuracy: 0.2899 - auc: 0.9061WARNING:tensorflow:`evaluate()` received a value for `sample_weight`, but `weighted_metrics` were not provided.  Did you mean to pass metrics to `weighted_metrics` in `compile()`?  If this is intentional you can pass `weighted_metrics=[]` to `compile()` in order to silence this warning.\n",
      "460/460 [==============================] - 1s 2ms/step - loss: 0.2413 - accuracy: 0.2888 - auc: 0.9060 - val_loss: 0.2338 - val_accuracy: 0.2693 - val_auc: 0.9124\n",
      "Epoch 27/50\n",
      "451/460 [============================>.] - ETA: 0s - loss: 0.2423 - accuracy: 0.2901 - auc: 0.9058WARNING:tensorflow:`evaluate()` received a value for `sample_weight`, but `weighted_metrics` were not provided.  Did you mean to pass metrics to `weighted_metrics` in `compile()`?  If this is intentional you can pass `weighted_metrics=[]` to `compile()` in order to silence this warning.\n",
      "460/460 [==============================] - 1s 3ms/step - loss: 0.2420 - accuracy: 0.2895 - auc: 0.9057 - val_loss: 0.2340 - val_accuracy: 0.2641 - val_auc: 0.9123\n",
      "Epoch 28/50\n",
      "444/460 [===========================>..] - ETA: 0s - loss: 0.2397 - accuracy: 0.2850 - auc: 0.9074WARNING:tensorflow:`evaluate()` received a value for `sample_weight`, but `weighted_metrics` were not provided.  Did you mean to pass metrics to `weighted_metrics` in `compile()`?  If this is intentional you can pass `weighted_metrics=[]` to `compile()` in order to silence this warning.\n",
      "460/460 [==============================] - 1s 3ms/step - loss: 0.2396 - accuracy: 0.2850 - auc: 0.9073 - val_loss: 0.2348 - val_accuracy: 0.2699 - val_auc: 0.9132\n",
      "Epoch 29/50\n",
      "442/460 [===========================>..] - ETA: 0s - loss: 0.2407 - accuracy: 0.2880 - auc: 0.9063WARNING:tensorflow:`evaluate()` received a value for `sample_weight`, but `weighted_metrics` were not provided.  Did you mean to pass metrics to `weighted_metrics` in `compile()`?  If this is intentional you can pass `weighted_metrics=[]` to `compile()` in order to silence this warning.\n",
      "460/460 [==============================] - 1s 3ms/step - loss: 0.2407 - accuracy: 0.2871 - auc: 0.9063 - val_loss: 0.2333 - val_accuracy: 0.2750 - val_auc: 0.9130\n",
      "Epoch 30/50\n",
      "444/460 [===========================>..] - ETA: 0s - loss: 0.2393 - accuracy: 0.2905 - auc: 0.9078WARNING:tensorflow:`evaluate()` received a value for `sample_weight`, but `weighted_metrics` were not provided.  Did you mean to pass metrics to `weighted_metrics` in `compile()`?  If this is intentional you can pass `weighted_metrics=[]` to `compile()` in order to silence this warning.\n",
      "460/460 [==============================] - 1s 3ms/step - loss: 0.2396 - accuracy: 0.2901 - auc: 0.9077 - val_loss: 0.2322 - val_accuracy: 0.2718 - val_auc: 0.9152\n",
      "Epoch 31/50\n",
      "457/460 [============================>.] - ETA: 0s - loss: 0.2379 - accuracy: 0.2911 - auc: 0.9088WARNING:tensorflow:`evaluate()` received a value for `sample_weight`, but `weighted_metrics` were not provided.  Did you mean to pass metrics to `weighted_metrics` in `compile()`?  If this is intentional you can pass `weighted_metrics=[]` to `compile()` in order to silence this warning.\n",
      "460/460 [==============================] - 1s 3ms/step - loss: 0.2380 - accuracy: 0.2909 - auc: 0.9089 - val_loss: 0.2317 - val_accuracy: 0.2677 - val_auc: 0.9142\n",
      "Epoch 32/50\n",
      "451/460 [============================>.] - ETA: 0s - loss: 0.2376 - accuracy: 0.2935 - auc: 0.9089WARNING:tensorflow:`evaluate()` received a value for `sample_weight`, but `weighted_metrics` were not provided.  Did you mean to pass metrics to `weighted_metrics` in `compile()`?  If this is intentional you can pass `weighted_metrics=[]` to `compile()` in order to silence this warning.\n",
      "460/460 [==============================] - 1s 2ms/step - loss: 0.2378 - accuracy: 0.2933 - auc: 0.9089 - val_loss: 0.2312 - val_accuracy: 0.2756 - val_auc: 0.9143\n",
      "Epoch 33/50\n",
      "439/460 [===========================>..] - ETA: 0s - loss: 0.2363 - accuracy: 0.2887 - auc: 0.9096WARNING:tensorflow:`evaluate()` received a value for `sample_weight`, but `weighted_metrics` were not provided.  Did you mean to pass metrics to `weighted_metrics` in `compile()`?  If this is intentional you can pass `weighted_metrics=[]` to `compile()` in order to silence this warning.\n",
      "460/460 [==============================] - 1s 3ms/step - loss: 0.2360 - accuracy: 0.2895 - auc: 0.9100 - val_loss: 0.2301 - val_accuracy: 0.2709 - val_auc: 0.9158\n",
      "Epoch 34/50\n",
      "441/460 [===========================>..] - ETA: 0s - loss: 0.2373 - accuracy: 0.2927 - auc: 0.9090WARNING:tensorflow:`evaluate()` received a value for `sample_weight`, but `weighted_metrics` were not provided.  Did you mean to pass metrics to `weighted_metrics` in `compile()`?  If this is intentional you can pass `weighted_metrics=[]` to `compile()` in order to silence this warning.\n",
      "460/460 [==============================] - 1s 2ms/step - loss: 0.2371 - accuracy: 0.2926 - auc: 0.9092 - val_loss: 0.2303 - val_accuracy: 0.2726 - val_auc: 0.9166\n",
      "Epoch 35/50\n",
      "460/460 [==============================] - ETA: 0s - loss: 0.2352 - accuracy: 0.2920 - auc: 0.9109WARNING:tensorflow:`evaluate()` received a value for `sample_weight`, but `weighted_metrics` were not provided.  Did you mean to pass metrics to `weighted_metrics` in `compile()`?  If this is intentional you can pass `weighted_metrics=[]` to `compile()` in order to silence this warning.\n",
      "460/460 [==============================] - 1s 3ms/step - loss: 0.2352 - accuracy: 0.2920 - auc: 0.9109 - val_loss: 0.2276 - val_accuracy: 0.2712 - val_auc: 0.9182\n",
      "Epoch 36/50\n",
      "446/460 [============================>.] - ETA: 0s - loss: 0.2340 - accuracy: 0.2933 - auc: 0.9119WARNING:tensorflow:`evaluate()` received a value for `sample_weight`, but `weighted_metrics` were not provided.  Did you mean to pass metrics to `weighted_metrics` in `compile()`?  If this is intentional you can pass `weighted_metrics=[]` to `compile()` in order to silence this warning.\n",
      "460/460 [==============================] - 1s 2ms/step - loss: 0.2343 - accuracy: 0.2938 - auc: 0.9116 - val_loss: 0.2282 - val_accuracy: 0.2737 - val_auc: 0.9167\n",
      "Epoch 37/50\n",
      "446/460 [============================>.] - ETA: 0s - loss: 0.2336 - accuracy: 0.2965 - auc: 0.9124WARNING:tensorflow:`evaluate()` received a value for `sample_weight`, but `weighted_metrics` were not provided.  Did you mean to pass metrics to `weighted_metrics` in `compile()`?  If this is intentional you can pass `weighted_metrics=[]` to `compile()` in order to silence this warning.\n",
      "460/460 [==============================] - 1s 2ms/step - loss: 0.2336 - accuracy: 0.2975 - auc: 0.9123 - val_loss: 0.2294 - val_accuracy: 0.2772 - val_auc: 0.9169\n",
      "Epoch 38/50\n",
      "447/460 [============================>.] - ETA: 0s - loss: 0.2332 - accuracy: 0.2940 - auc: 0.9123WARNING:tensorflow:`evaluate()` received a value for `sample_weight`, but `weighted_metrics` were not provided.  Did you mean to pass metrics to `weighted_metrics` in `compile()`?  If this is intentional you can pass `weighted_metrics=[]` to `compile()` in order to silence this warning.\n",
      "460/460 [==============================] - 1s 2ms/step - loss: 0.2330 - accuracy: 0.2943 - auc: 0.9124 - val_loss: 0.2269 - val_accuracy: 0.2807 - val_auc: 0.9174\n",
      "Epoch 39/50\n",
      "446/460 [============================>.] - ETA: 0s - loss: 0.2337 - accuracy: 0.2963 - auc: 0.9122WARNING:tensorflow:`evaluate()` received a value for `sample_weight`, but `weighted_metrics` were not provided.  Did you mean to pass metrics to `weighted_metrics` in `compile()`?  If this is intentional you can pass `weighted_metrics=[]` to `compile()` in order to silence this warning.\n",
      "460/460 [==============================] - 1s 3ms/step - loss: 0.2334 - accuracy: 0.2954 - auc: 0.9124 - val_loss: 0.2280 - val_accuracy: 0.2764 - val_auc: 0.9172\n",
      "Epoch 40/50\n",
      "445/460 [============================>.] - ETA: 0s - loss: 0.2320 - accuracy: 0.2954 - auc: 0.9134WARNING:tensorflow:`evaluate()` received a value for `sample_weight`, but `weighted_metrics` were not provided.  Did you mean to pass metrics to `weighted_metrics` in `compile()`?  If this is intentional you can pass `weighted_metrics=[]` to `compile()` in order to silence this warning.\n",
      "460/460 [==============================] - 1s 2ms/step - loss: 0.2321 - accuracy: 0.2938 - auc: 0.9131 - val_loss: 0.2283 - val_accuracy: 0.2870 - val_auc: 0.9179\n",
      "Epoch 41/50\n",
      "440/460 [===========================>..] - ETA: 0s - loss: 0.2316 - accuracy: 0.2944 - auc: 0.9131WARNING:tensorflow:`evaluate()` received a value for `sample_weight`, but `weighted_metrics` were not provided.  Did you mean to pass metrics to `weighted_metrics` in `compile()`?  If this is intentional you can pass `weighted_metrics=[]` to `compile()` in order to silence this warning.\n",
      "460/460 [==============================] - 1s 3ms/step - loss: 0.2319 - accuracy: 0.2942 - auc: 0.9127 - val_loss: 0.2290 - val_accuracy: 0.2856 - val_auc: 0.9180\n",
      "Epoch 42/50\n",
      "440/460 [===========================>..] - ETA: 0s - loss: 0.2316 - accuracy: 0.2936 - auc: 0.9133WARNING:tensorflow:`evaluate()` received a value for `sample_weight`, but `weighted_metrics` were not provided.  Did you mean to pass metrics to `weighted_metrics` in `compile()`?  If this is intentional you can pass `weighted_metrics=[]` to `compile()` in order to silence this warning.\n",
      "460/460 [==============================] - 1s 3ms/step - loss: 0.2315 - accuracy: 0.2950 - auc: 0.9133 - val_loss: 0.2272 - val_accuracy: 0.2712 - val_auc: 0.9187\n",
      "Epoch 43/50\n",
      "452/460 [============================>.] - ETA: 0s - loss: 0.2310 - accuracy: 0.2952 - auc: 0.9135WARNING:tensorflow:`evaluate()` received a value for `sample_weight`, but `weighted_metrics` were not provided.  Did you mean to pass metrics to `weighted_metrics` in `compile()`?  If this is intentional you can pass `weighted_metrics=[]` to `compile()` in order to silence this warning.\n",
      "460/460 [==============================] - 1s 3ms/step - loss: 0.2312 - accuracy: 0.2952 - auc: 0.9135 - val_loss: 0.2251 - val_accuracy: 0.2905 - val_auc: 0.9199\n",
      "Epoch 44/50\n",
      "441/460 [===========================>..] - ETA: 0s - loss: 0.2316 - accuracy: 0.2944 - auc: 0.9132WARNING:tensorflow:`evaluate()` received a value for `sample_weight`, but `weighted_metrics` were not provided.  Did you mean to pass metrics to `weighted_metrics` in `compile()`?  If this is intentional you can pass `weighted_metrics=[]` to `compile()` in order to silence this warning.\n",
      "460/460 [==============================] - 1s 2ms/step - loss: 0.2314 - accuracy: 0.2954 - auc: 0.9134 - val_loss: 0.2229 - val_accuracy: 0.2826 - val_auc: 0.9199\n",
      "Epoch 45/50\n",
      "445/460 [============================>.] - ETA: 0s - loss: 0.2307 - accuracy: 0.2952 - auc: 0.9141WARNING:tensorflow:`evaluate()` received a value for `sample_weight`, but `weighted_metrics` were not provided.  Did you mean to pass metrics to `weighted_metrics` in `compile()`?  If this is intentional you can pass `weighted_metrics=[]` to `compile()` in order to silence this warning.\n",
      "460/460 [==============================] - 1s 2ms/step - loss: 0.2305 - accuracy: 0.2962 - auc: 0.9143 - val_loss: 0.2244 - val_accuracy: 0.2783 - val_auc: 0.9174\n",
      "Epoch 46/50\n",
      "445/460 [============================>.] - ETA: 0s - loss: 0.2300 - accuracy: 0.2944 - auc: 0.9145WARNING:tensorflow:`evaluate()` received a value for `sample_weight`, but `weighted_metrics` were not provided.  Did you mean to pass metrics to `weighted_metrics` in `compile()`?  If this is intentional you can pass `weighted_metrics=[]` to `compile()` in order to silence this warning.\n",
      "460/460 [==============================] - 1s 3ms/step - loss: 0.2302 - accuracy: 0.2947 - auc: 0.9142 - val_loss: 0.2239 - val_accuracy: 0.2726 - val_auc: 0.9206\n",
      "Epoch 47/50\n",
      "443/460 [===========================>..] - ETA: 0s - loss: 0.2298 - accuracy: 0.2990 - auc: 0.9148WARNING:tensorflow:`evaluate()` received a value for `sample_weight`, but `weighted_metrics` were not provided.  Did you mean to pass metrics to `weighted_metrics` in `compile()`?  If this is intentional you can pass `weighted_metrics=[]` to `compile()` in order to silence this warning.\n",
      "460/460 [==============================] - 1s 2ms/step - loss: 0.2295 - accuracy: 0.2986 - auc: 0.9148 - val_loss: 0.2229 - val_accuracy: 0.2764 - val_auc: 0.9212\n",
      "Epoch 48/50\n",
      "450/460 [============================>.] - ETA: 0s - loss: 0.2279 - accuracy: 0.2969 - auc: 0.9159WARNING:tensorflow:`evaluate()` received a value for `sample_weight`, but `weighted_metrics` were not provided.  Did you mean to pass metrics to `weighted_metrics` in `compile()`?  If this is intentional you can pass `weighted_metrics=[]` to `compile()` in order to silence this warning.\n",
      "460/460 [==============================] - 1s 2ms/step - loss: 0.2279 - accuracy: 0.2969 - auc: 0.9158 - val_loss: 0.2237 - val_accuracy: 0.2791 - val_auc: 0.9200\n",
      "Epoch 49/50\n",
      "445/460 [============================>.] - ETA: 0s - loss: 0.2294 - accuracy: 0.2981 - auc: 0.9152WARNING:tensorflow:`evaluate()` received a value for `sample_weight`, but `weighted_metrics` were not provided.  Did you mean to pass metrics to `weighted_metrics` in `compile()`?  If this is intentional you can pass `weighted_metrics=[]` to `compile()` in order to silence this warning.\n",
      "460/460 [==============================] - 1s 2ms/step - loss: 0.2291 - accuracy: 0.2982 - auc: 0.9154 - val_loss: 0.2203 - val_accuracy: 0.2927 - val_auc: 0.9217\n",
      "Epoch 50/50\n",
      "450/460 [============================>.] - ETA: 0s - loss: 0.2290 - accuracy: 0.2962 - auc: 0.9154WARNING:tensorflow:`evaluate()` received a value for `sample_weight`, but `weighted_metrics` were not provided.  Did you mean to pass metrics to `weighted_metrics` in `compile()`?  If this is intentional you can pass `weighted_metrics=[]` to `compile()` in order to silence this warning.\n",
      "460/460 [==============================] - 1s 3ms/step - loss: 0.2290 - accuracy: 0.2969 - auc: 0.9152 - val_loss: 0.2208 - val_accuracy: 0.2878 - val_auc: 0.9219\n"
     ]
    }
   ],
   "source": [
    "early_stopping = EarlyStopping(monitor='val_loss', patience=10, restore_best_weights=True)\n",
    "\n",
    "history = model.fit(X_train_processed, \n",
    "                    y_train.values, \n",
    "                    epochs=50, \n",
    "                    batch_size=32, \n",
    "                    validation_split=0.2, \n",
    "                    verbose=1, \n",
    "                    callbacks=[early_stopping],\n",
    "                    sample_weight=final_sample_weights)"
   ]
  },
  {
   "cell_type": "markdown",
   "id": "49574b1f",
   "metadata": {},
   "source": [
    "# 3. 모델 성능 평가"
   ]
  },
  {
   "cell_type": "code",
   "execution_count": 349,
   "id": "a12d9d17",
   "metadata": {},
   "outputs": [
    {
     "name": "stdout",
     "output_type": "stream",
     "text": [
      "144/144 [==============================] - 0s 1ms/step - loss: 0.2976 - accuracy: 0.2783 - auc: 0.9189\n"
     ]
    }
   ],
   "source": [
    "loss, accuracy, auc = model.evaluate(X_test_processed, y_test)"
   ]
  },
  {
   "cell_type": "code",
   "execution_count": 350,
   "id": "565056c9",
   "metadata": {},
   "outputs": [
    {
     "name": "stdout",
     "output_type": "stream",
     "text": [
      "144/144 [==============================] - 0s 939us/step\n"
     ]
    }
   ],
   "source": [
    "y_pred_proba = model.predict(X_test_processed)"
   ]
  },
  {
   "cell_type": "code",
   "execution_count": 351,
   "id": "20dee40b",
   "metadata": {},
   "outputs": [],
   "source": [
    "y_pred = (y_pred_proba > 0.5).astype(int)"
   ]
  },
  {
   "cell_type": "code",
   "execution_count": 352,
   "id": "ae292a91",
   "metadata": {},
   "outputs": [],
   "source": [
    "# 각 상품별 최적 임계값 설정\n",
    "optimal_thresholds = {\n",
    "    'CDS': 0.25,     # 0.25 -> 0.20\n",
    "    'NMMF': 0.4,    # 0.50 -> 0.45  \n",
    "    'STOCKS': 0.45,  # 0.50 -> 0.45\n",
    "    'RETQLIQ': 0.50, # 그대로\n",
    "    'MMMF': 0.3     # 0.50 -> 0.15 (희귀 클래스)\n",
    "}\n",
    "\n",
    "for i, col in enumerate(target_cols):\n",
    "    y_pred[:, i] = (y_pred_proba[:, i] >= optimal_thresholds[col]).astype(int)"
   ]
  },
  {
   "cell_type": "code",
   "execution_count": 353,
   "id": "5a29ce4b",
   "metadata": {},
   "outputs": [
    {
     "name": "stdout",
     "output_type": "stream",
     "text": [
      "              precision    recall  f1-score   support\n",
      "\n",
      "         CDS       0.40      0.31      0.35       364\n",
      "        NMMF       0.62      0.63      0.63       881\n",
      "      STOCKS       0.69      0.63      0.66      1334\n",
      "     RETQLIQ       0.80      0.88      0.84      2641\n",
      "        MMMF       0.51      0.27      0.35       187\n",
      "\n",
      "   micro avg       0.72      0.72      0.72      5407\n",
      "   macro avg       0.60      0.54      0.56      5407\n",
      "weighted avg       0.71      0.72      0.71      5407\n",
      " samples avg       0.47      0.46      0.44      5407\n",
      "\n"
     ]
    },
    {
     "name": "stderr",
     "output_type": "stream",
     "text": [
      "d:\\VSCode\\study\\.conda\\lib\\site-packages\\sklearn\\metrics\\_classification.py:1731: UndefinedMetricWarning: Precision is ill-defined and being set to 0.0 in samples with no predicted labels. Use `zero_division` parameter to control this behavior.\n",
      "  _warn_prf(average, modifier, f\"{metric.capitalize()} is\", result.shape[0])\n",
      "d:\\VSCode\\study\\.conda\\lib\\site-packages\\sklearn\\metrics\\_classification.py:1731: UndefinedMetricWarning: Recall is ill-defined and being set to 0.0 in samples with no true labels. Use `zero_division` parameter to control this behavior.\n",
      "  _warn_prf(average, modifier, f\"{metric.capitalize()} is\", result.shape[0])\n",
      "d:\\VSCode\\study\\.conda\\lib\\site-packages\\sklearn\\metrics\\_classification.py:1731: UndefinedMetricWarning: F-score is ill-defined and being set to 0.0 in samples with no true nor predicted labels. Use `zero_division` parameter to control this behavior.\n",
      "  _warn_prf(average, modifier, f\"{metric.capitalize()} is\", result.shape[0])\n"
     ]
    }
   ],
   "source": [
    "report = classification_report(y_test, y_pred, target_names=target_cols)\n",
    "print(report)"
   ]
  },
  {
   "cell_type": "code",
   "execution_count": 354,
   "id": "8a794064",
   "metadata": {},
   "outputs": [
    {
     "name": "stdout",
     "output_type": "stream",
     "text": [
      "각 금융상품별 ROC AUC 점수\n",
      "CDS            : 0.8274\n",
      "NMMF           : 0.8814\n",
      "STOCKS         : 0.8708\n",
      "RETQLIQ        : 0.8895\n",
      "MMMF           : 0.8647\n"
     ]
    }
   ],
   "source": [
    "print(\"각 금융상품별 ROC AUC 점수\")\n",
    "for i, col in enumerate(target_cols):\n",
    "    auc_score = roc_auc_score(y_test.iloc[:, i], y_pred_proba[:, i])\n",
    "    print(f\"{col:<15}: {auc_score:.4f}\")"
   ]
  },
  {
   "cell_type": "code",
   "execution_count": 355,
   "id": "eaf51f89",
   "metadata": {},
   "outputs": [
    {
     "name": "stdout",
     "output_type": "stream",
     "text": [
      "샘플 데이터 예측 테스트\n",
      "1/1 [==============================] - 0s 20ms/step\n",
      "\n",
      "예측 결과 (각 상품별 가입 확률):\n",
      "CDS            : 1.69%\n",
      "NMMF           : 6.14%\n",
      "STOCKS         : 28.44%\n",
      "RETQLIQ        : 72.89%\n",
      "MMMF           : 0.32%\n",
      "1/1 [==============================] - 0s 17ms/step\n",
      "\n",
      "예측 결과 (각 상품별 가입 확률):\n",
      "CDS            : 16.14%\n",
      "NMMF           : 12.97%\n",
      "STOCKS         : 30.94%\n",
      "RETQLIQ        : 56.38%\n",
      "MMMF           : 4.01%\n",
      "1/1 [==============================] - 0s 19ms/step\n",
      "\n",
      "예측 결과 (각 상품별 가입 확률):\n",
      "CDS            : 2.89%\n",
      "NMMF           : 92.66%\n",
      "STOCKS         : 68.02%\n",
      "RETQLIQ        : 90.59%\n",
      "MMMF           : 2.76%\n",
      "1/1 [==============================] - 0s 19ms/step\n",
      "\n",
      "예측 결과 (각 상품별 가입 확률):\n",
      "CDS            : 4.70%\n",
      "NMMF           : 15.20%\n",
      "STOCKS         : 40.15%\n",
      "RETQLIQ        : 83.91%\n",
      "MMMF           : 6.82%\n",
      "1/1 [==============================] - 0s 17ms/step\n",
      "\n",
      "예측 결과 (각 상품별 가입 확률):\n",
      "CDS            : 25.56%\n",
      "NMMF           : 38.45%\n",
      "STOCKS         : 75.24%\n",
      "RETQLIQ        : 96.18%\n",
      "MMMF           : 6.87%\n",
      "1/1 [==============================] - 0s 18ms/step\n",
      "\n",
      "예측 결과 (각 상품별 가입 확률):\n",
      "CDS            : 3.21%\n",
      "NMMF           : 7.95%\n",
      "STOCKS         : 40.22%\n",
      "RETQLIQ        : 48.68%\n",
      "MMMF           : 3.56%\n",
      "1/1 [==============================] - 0s 17ms/step\n",
      "\n",
      "예측 결과 (각 상품별 가입 확률):\n",
      "CDS            : 4.18%\n",
      "NMMF           : 4.72%\n",
      "STOCKS         : 15.42%\n",
      "RETQLIQ        : 51.64%\n",
      "MMMF           : 0.15%\n",
      "1/1 [==============================] - 0s 17ms/step\n",
      "\n",
      "예측 결과 (각 상품별 가입 확률):\n",
      "CDS            : 14.68%\n",
      "NMMF           : 13.97%\n",
      "STOCKS         : 13.36%\n",
      "RETQLIQ        : 84.11%\n",
      "MMMF           : 1.16%\n",
      "1/1 [==============================] - 0s 17ms/step\n",
      "\n",
      "예측 결과 (각 상품별 가입 확률):\n",
      "CDS            : 14.27%\n",
      "NMMF           : 18.62%\n",
      "STOCKS         : 33.99%\n",
      "RETQLIQ        : 78.80%\n",
      "MMMF           : 4.95%\n",
      "1/1 [==============================] - 0s 17ms/step\n",
      "\n",
      "예측 결과 (각 상품별 가입 확률):\n",
      "CDS            : 8.94%\n",
      "NMMF           : 14.28%\n",
      "STOCKS         : 36.81%\n",
      "RETQLIQ        : 53.10%\n",
      "MMMF           : 4.85%\n"
     ]
    }
   ],
   "source": [
    "print(\"샘플 데이터 예측 테스트\")\n",
    "# 첫 번째 테스트 데이터로 예측 수행\n",
    "for j in range(10):\n",
    "    sample_input = X_test_processed[j:j+1]\n",
    "    sample_prediction_proba = model.predict(sample_input)[0]\n",
    "\n",
    "    print(\"\\n예측 결과 (각 상품별 가입 확률):\")\n",
    "\n",
    "    for i, col in enumerate(target_cols):\n",
    "        print(f\"{col:<15}: {sample_prediction_proba[i]*100:.2f}%\")"
   ]
  },
  {
   "cell_type": "code",
   "execution_count": null,
   "id": "0ca6910a",
   "metadata": {},
   "outputs": [],
   "source": []
  },
  {
   "cell_type": "code",
   "execution_count": null,
   "id": "b4aa8bc2",
   "metadata": {},
   "outputs": [],
   "source": []
  },
  {
   "cell_type": "code",
   "execution_count": null,
   "id": "7a68da3a",
   "metadata": {},
   "outputs": [],
   "source": []
  }
 ],
 "metadata": {
  "kernelspec": {
   "display_name": ".conda",
   "language": "python",
   "name": "python3"
  },
  "language_info": {
   "codemirror_mode": {
    "name": "ipython",
    "version": 3
   },
   "file_extension": ".py",
   "mimetype": "text/x-python",
   "name": "python",
   "nbconvert_exporter": "python",
   "pygments_lexer": "ipython3",
   "version": "3.10.18"
  }
 },
 "nbformat": 4,
 "nbformat_minor": 5
}
