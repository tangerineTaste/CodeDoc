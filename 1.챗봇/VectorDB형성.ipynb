{
 "cells": [
  {
   "cell_type": "code",
   "execution_count": 1,
   "id": "5c342f14",
   "metadata": {},
   "outputs": [
    {
     "name": "stderr",
     "output_type": "stream",
     "text": [
      "c:\\Users\\Admin\\anaconda3\\envs\\llm-lab\\lib\\site-packages\\tqdm\\auto.py:21: TqdmWarning: IProgress not found. Please update jupyter and ipywidgets. See https://ipywidgets.readthedocs.io/en/stable/user_install.html\n",
      "  from .autonotebook import tqdm as notebook_tqdm\n"
     ]
    }
   ],
   "source": [
    "from langchain_community.document_loaders import Docx2txtLoader\n",
    "from langchain_text_splitters import RecursiveCharacterTextSplitter\n",
    "import os\n",
    "from pathlib import Path\n",
    "from dotenv import load_dotenv\n",
    "from langchain_upstage import UpstageEmbeddings\n",
    "from pinecone import Pinecone\n",
    "from langchain_pinecone import PineconeVectorStore\n",
    "import time\n",
    "import re\n",
    "from langchain_core.documents import Document\n",
    "from tqdm import tqdm"
   ]
  },
  {
   "cell_type": "code",
   "execution_count": 2,
   "id": "6b109f94",
   "metadata": {},
   "outputs": [],
   "source": [
    "load_dotenv()\n",
    "embedding = UpstageEmbeddings(model=\"solar-embedding-1-large\")"
   ]
  },
  {
   "cell_type": "code",
   "execution_count": 3,
   "id": "1ef0b0e5",
   "metadata": {},
   "outputs": [],
   "source": [
    "pc = Pinecone()\n",
    "index_name = 'codedoc'"
   ]
  },
  {
   "cell_type": "code",
   "execution_count": 4,
   "id": "c059aaca",
   "metadata": {},
   "outputs": [],
   "source": [
    "all_documents = []\n",
    "\n",
    "law_folders = [folder for folder in Path(\"../../내파일/\").iterdir() \n",
    "                   if folder.is_dir() and folder.name.endswith('법령')]\n",
    "\n",
    "text_splitter = RecursiveCharacterTextSplitter(chunk_size=1500, chunk_overlap=200)\n",
    "                \n",
    "for folder in law_folders:\n",
    "    docx_files = list(folder.glob('*.docx'))\n",
    "    for docx_path in docx_files:\n",
    "        loader = Docx2txtLoader(str(docx_path))\n",
    "        document_list = loader.load_and_split(text_splitter=text_splitter)\n",
    "        full_text = loader.load()[0].page_content\n",
    "\n",
    "        chunks = re.split(r'(?=제\\d+조)', full_text)\n",
    "\n",
    "        if chunks[0].strip():\n",
    "                doc = Document(\n",
    "                    page_content=chunks[0].strip(),\n",
    "                    metadata={\"source\": str(docx_path), \"chunk_type\": \"title\"}\n",
    "                )\n",
    "                all_documents.append(doc)\n",
    "\n",
    "        for chunk in chunks[1:]:\n",
    "                if chunk.strip():\n",
    "                    doc = Document(\n",
    "                        page_content=chunk.strip(),\n",
    "                        metadata={\"source\": str(docx_path), \"chunk_type\": \"article\"}\n",
    "                    )\n",
    "                    all_documents.append(doc)\n"
   ]
  },
  {
   "cell_type": "code",
   "execution_count": 6,
   "id": "60f57c69",
   "metadata": {},
   "outputs": [
    {
     "name": "stdout",
     "output_type": "stream",
     "text": [
      "\n",
      "총 86103개의 구조적 텍스트 조각을 업로드합니다...\n"
     ]
    },
    {
     "name": "stderr",
     "output_type": "stream",
     "text": [
      "배치 업로드 중: 100%|██████████| 2871/2871 [8:01:11<00:00, 10.06s/it]   "
     ]
    },
    {
     "name": "stdout",
     "output_type": "stream",
     "text": [
      "구조 기반 청킹 및 업로드가 완료되었습니다!\n"
     ]
    },
    {
     "name": "stderr",
     "output_type": "stream",
     "text": [
      "\n"
     ]
    }
   ],
   "source": [
    "if all_documents:\n",
    "    batch_size = 30\n",
    "    print(f\"\\n총 {len(all_documents)}개의 구조적 텍스트 조각을 업로드합니다...\")\n",
    "\n",
    "    for i in tqdm(range(0, len(all_documents), batch_size), desc=\"배치 업로드 중\"):\n",
    "        batch = all_documents[i:i + batch_size]\n",
    "        try:\n",
    "            PineconeVectorStore.from_documents(\n",
    "                documents=batch,\n",
    "                embedding=embedding,\n",
    "                index_name=index_name\n",
    "            )\n",
    "        except Exception as e:\n",
    "            print(f\"배치 업로드 중 오류 발생: {e}\")\n",
    "        time.sleep(1) # API 제한을 피하기 위한 지연\n",
    "\n",
    "    print(\"구조 기반 청킹 및 업로드가 완료되었습니다!\")\n",
    "else:\n",
    "    print(\"처리할 문서가 없습니다.\")\n"
   ]
  },
  {
   "cell_type": "code",
   "execution_count": null,
   "id": "9e884d6b",
   "metadata": {},
   "outputs": [],
   "source": []
  },
  {
   "cell_type": "code",
   "execution_count": null,
   "id": "96d6ba52",
   "metadata": {},
   "outputs": [],
   "source": []
  },
  {
   "cell_type": "code",
   "execution_count": null,
   "id": "2e684415",
   "metadata": {},
   "outputs": [],
   "source": []
  }
 ],
 "metadata": {
  "kernelspec": {
   "display_name": "llm-lab",
   "language": "python",
   "name": "python3"
  },
  "language_info": {
   "codemirror_mode": {
    "name": "ipython",
    "version": 3
   },
   "file_extension": ".py",
   "mimetype": "text/x-python",
   "name": "python",
   "nbconvert_exporter": "python",
   "pygments_lexer": "ipython3",
   "version": "3.10.0"
  }
 },
 "nbformat": 4,
 "nbformat_minor": 5
}
