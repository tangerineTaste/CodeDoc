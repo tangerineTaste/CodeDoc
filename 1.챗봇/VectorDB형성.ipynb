{
 "cells": [
  {
   "cell_type": "code",
   "execution_count": 6,
   "id": "5c342f14",
   "metadata": {},
   "outputs": [],
   "source": [
    "from langchain_community.document_loaders import Docx2txtLoader\n",
    "from langchain_text_splitters import RecursiveCharacterTextSplitter\n",
    "import os\n",
    "from pathlib import Path\n",
    "from dotenv import load_dotenv\n",
    "from langchain_upstage import UpstageEmbeddings\n",
    "from pinecone import Pinecone\n",
    "from langchain_pinecone import PineconeVectorStore\n",
    "import time"
   ]
  },
  {
   "cell_type": "code",
   "execution_count": 2,
   "id": "6b109f94",
   "metadata": {},
   "outputs": [],
   "source": [
    "load_dotenv()\n",
    "embedding = UpstageEmbeddings(model=\"solar-embedding-1-large\")"
   ]
  },
  {
   "cell_type": "code",
   "execution_count": 3,
   "id": "1ef0b0e5",
   "metadata": {},
   "outputs": [],
   "source": [
    "pc = Pinecone()\n",
    "index_name = 'codedoc'"
   ]
  },
  {
   "cell_type": "code",
   "execution_count": 4,
   "id": "c059aaca",
   "metadata": {},
   "outputs": [],
   "source": [
    "all_documents = []\n",
    "\n",
    "law_folders = [folder for folder in Path(\"../../내파일/\").iterdir() \n",
    "                   if folder.is_dir() and folder.name.endswith('법령')]\n",
    "\n",
    "text_splitter = RecursiveCharacterTextSplitter(chunk_size=1500, chunk_overlap=200)\n",
    "                \n",
    "for folder in law_folders:\n",
    "    docx_files = list(folder.glob('*.docx'))\n",
    "    for docx_path in docx_files:\n",
    "        loader = Docx2txtLoader(str(docx_path))\n",
    "        document_list = loader.load_and_split(text_splitter=text_splitter)\n",
    "        \n",
    "        all_documents.extend(document_list)\n"
   ]
  },
  {
   "cell_type": "code",
   "execution_count": 8,
   "id": "60f57c69",
   "metadata": {},
   "outputs": [
    {
     "name": "stdout",
     "output_type": "stream",
     "text": [
      "\n",
      "총 7755개의 텍스트 조각을 259개의 배치로 나누어 업로드합니다...\n",
      "모든 배치 업로드가 성공적으로 완료되었습니다!\n"
     ]
    }
   ],
   "source": [
    "if all_documents:\n",
    "    # API 요청 제한을 피하기 위해 배치 크기를 더 보수적으로 줄입니다.\n",
    "    batch_size = 30 \n",
    "    # 최대 재시도 횟수\n",
    "    max_retries = 5 \n",
    "    \n",
    "    total_batches = (len(all_documents) + batch_size - 1) // batch_size\n",
    "    print(f\"\\n총 {len(all_documents)}개의 텍스트 조각을 {total_batches}개의 배치로 나누어 업로드합니다...\")\n",
    "\n",
    "    for i in range(0, len(all_documents), batch_size):\n",
    "        # 처리할 현재 배치를 선택합니다.\n",
    "        batch = all_documents[i:i + batch_size]\n",
    "        \n",
    "        for attempt in range(max_retries):\n",
    "            try:\n",
    "                # 현재 배치를 Pinecone에 업로드합니다.\n",
    "                PineconeVectorStore.from_documents(\n",
    "                    documents=batch,\n",
    "                    embedding=embedding,\n",
    "                    index_name=index_name\n",
    "                )\n",
    "                # 성공 시 재시도 루프를 빠져나갑니다.\n",
    "                break \n",
    "            except Exception as e:\n",
    "                if \"429\" in str(e): # API Rate Limit 에러인 경우\n",
    "                    # 2, 4, 8, 16, 32초 순으로 대기 시간이 늘어납니다.\n",
    "                    wait_time = 2 ** (attempt + 1) \n",
    "                    print(f\"배치 {i//batch_size + 1} 처리 중 API 제한 발생. {wait_time}초 후 재시도합니다... (시도 {attempt + 1}/{max_retries})\")\n",
    "                    time.sleep(wait_time)\n",
    "                else: # 다른 종류의 에러인 경우\n",
    "                    print(f\"배치 {i//batch_size + 1} 처리 중 예상치 못한 오류 발생: {e}\")\n",
    "                    break # 이 배치는 포기하고 다음 배치로 넘어갑니다.\n",
    "            \n",
    "            if attempt == max_retries - 1:\n",
    "                print(f\"배치 {i//batch_size + 1} 업로드 최종 실패. 다음 배치를 계속 진행합니다...\")\n",
    "        \n",
    "        # 각 배치가 성공적으로 끝나도, 다음 배치를 위해 잠시 쉬어줍니다.\n",
    "        time.sleep(1.5)\n",
    "\n",
    "    print(\"모든 배치 업로드가 성공적으로 완료되었습니다!\")\n",
    "else:\n",
    "    print(\"처리할 문서가 없습니다.\")"
   ]
  },
  {
   "cell_type": "code",
   "execution_count": null,
   "id": "9e884d6b",
   "metadata": {},
   "outputs": [],
   "source": []
  },
  {
   "cell_type": "code",
   "execution_count": null,
   "id": "96d6ba52",
   "metadata": {},
   "outputs": [],
   "source": []
  },
  {
   "cell_type": "code",
   "execution_count": null,
   "id": "2e684415",
   "metadata": {},
   "outputs": [],
   "source": []
  }
 ],
 "metadata": {
  "kernelspec": {
   "display_name": "llm-lab",
   "language": "python",
   "name": "python3"
  },
  "language_info": {
   "codemirror_mode": {
    "name": "ipython",
    "version": 3
   },
   "file_extension": ".py",
   "mimetype": "text/x-python",
   "name": "python",
   "nbconvert_exporter": "python",
   "pygments_lexer": "ipython3",
   "version": "3.10.0"
  }
 },
 "nbformat": 4,
 "nbformat_minor": 5
}
