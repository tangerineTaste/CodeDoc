{
 "cells": [
  {
   "cell_type": "markdown",
   "id": "76634b7b",
   "metadata": {},
   "source": [
    "# 0. 패키지 임포트"
   ]
  },
  {
   "cell_type": "code",
   "execution_count": 1,
   "id": "343bba69",
   "metadata": {},
   "outputs": [
    {
     "name": "stderr",
     "output_type": "stream",
     "text": [
      "c:\\Users\\Admin\\anaconda3\\envs\\llm-lab\\lib\\site-packages\\tqdm\\auto.py:21: TqdmWarning: IProgress not found. Please update jupyter and ipywidgets. See https://ipywidgets.readthedocs.io/en/stable/user_install.html\n",
      "  from .autonotebook import tqdm as notebook_tqdm\n"
     ]
    }
   ],
   "source": [
    "from dotenv import load_dotenv\n",
    "from pinecone import Pinecone\n",
    "from langchain_pinecone import PineconeVectorStore\n",
    "from langchain_upstage import UpstageEmbeddings\n",
    "from langchain_openai import OpenAIEmbeddings\n",
    "from langchain import hub\n",
    "from langchain_openai import ChatOpenAI\n",
    "from langchain.chains import RetrievalQA\n",
    "from decouple import config\n",
    "import pandas as pd\n",
    "import numpy as np\n",
    "from sklearn.metrics.pairwise import cosine_similarity\n",
    "from langchain.retrievers.multi_query import MultiQueryRetriever\n",
    "from langchain.chains.query_constructor.base import AttributeInfo\n",
    "from langchain.retrievers.self_query.base import SelfQueryRetriever"
   ]
  },
  {
   "cell_type": "markdown",
   "id": "ef80cf94",
   "metadata": {},
   "source": [
    "# 1. 기본 세팅"
   ]
  },
  {
   "cell_type": "code",
   "execution_count": 2,
   "id": "2f3c3696",
   "metadata": {},
   "outputs": [
    {
     "data": {
      "text/plain": [
       "True"
      ]
     },
     "execution_count": 2,
     "metadata": {},
     "output_type": "execute_result"
    }
   ],
   "source": [
    "load_dotenv()"
   ]
  },
  {
   "cell_type": "code",
   "execution_count": 3,
   "id": "240a5b7e",
   "metadata": {},
   "outputs": [],
   "source": [
    "pc = Pinecone()"
   ]
  },
  {
   "cell_type": "code",
   "execution_count": 4,
   "id": "5f046956",
   "metadata": {},
   "outputs": [],
   "source": [
    "# embedding = OpenAIEmbeddings(model=\"text-embedding-3-large\")\n",
    "embedding = UpstageEmbeddings(model=\"solar-embedding-1-large\")\n",
    "index_name = config(\"PINECONE_INDEX\")\n"
   ]
  },
  {
   "cell_type": "code",
   "execution_count": 5,
   "id": "8382e1a1",
   "metadata": {},
   "outputs": [],
   "source": [
    "database = PineconeVectorStore(\n",
    "    embedding=embedding, \n",
    "    index_name=index_name\n",
    ")"
   ]
  },
  {
   "cell_type": "code",
   "execution_count": 6,
   "id": "042bc253",
   "metadata": {},
   "outputs": [],
   "source": [
    "retriever = database.as_retriever(search_kwargs={\"k\": 3})\n",
    "prompt = hub.pull('rlm/rag-prompt')\n",
    "llm = ChatOpenAI(model=\"gpt-5-nano\")"
   ]
  },
  {
   "cell_type": "code",
   "execution_count": null,
   "id": "3ac3dadc",
   "metadata": {},
   "outputs": [],
   "source": [
    "metadata_field_info = [\n",
    "    AttributeInfo(\n",
    "        name=\"source\",\n",
    "        description=\"법률의 이름. 예: '어선원 및 어선 재해보상보험법(법률)(제20132호)(20240724).docx'\",\n",
    "        type=\"string\",\n",
    "    ),\n",
    "    AttributeInfo(\n",
    "        name=\"chunk_type\",\n",
    "        description=\"텍스트 조각의 유형. 'title'(제목/총칙) 또는 'article'(개별 조항) 중 하나.\",\n",
    "        type=\"string\",\n",
    "    ),\n",
    "]\n",
    "document_content_description = \"대한민국 법률 조항\"\n",
    "\n",
    "self_query_retriever = SelfQueryRetriever.from_llm(\n",
    "    llm=llm,\n",
    "    vectorstore=database,\n",
    "    document_contents=document_content_description,\n",
    "    metadata_field_info=metadata_field_info,\n",
    "    verbose=True\n",
    ")"
   ]
  },
  {
   "cell_type": "code",
   "execution_count": 32,
   "id": "9bd6f879",
   "metadata": {},
   "outputs": [],
   "source": [
    "retriever_from_llm = MultiQueryRetriever.from_llm(\n",
    "    retriever=retriever, \n",
    "    llm=llm,\n",
    ")"
   ]
  },
  {
   "cell_type": "code",
   "execution_count": 22,
   "id": "194b32fe",
   "metadata": {},
   "outputs": [],
   "source": [
    "qa_chain = RetrievalQA.from_chain_type(\n",
    "    llm,\n",
    "    retriever = retriever, # 리트리버 방식 변경 가능 (retriever, retriever_from_llm, self_query_retriever )\n",
    "    chain_type_kwargs={\"prompt\": prompt},\n",
    ")"
   ]
  },
  {
   "cell_type": "markdown",
   "id": "a1445b25",
   "metadata": {},
   "source": [
    "# 2. 선다형 문제로 검증 실행"
   ]
  },
  {
   "cell_type": "code",
   "execution_count": 19,
   "id": "f53f9a8f",
   "metadata": {},
   "outputs": [
    {
     "data": {
      "text/html": [
       "<div>\n",
       "<style scoped>\n",
       "    .dataframe tbody tr th:only-of-type {\n",
       "        vertical-align: middle;\n",
       "    }\n",
       "\n",
       "    .dataframe tbody tr th {\n",
       "        vertical-align: top;\n",
       "    }\n",
       "\n",
       "    .dataframe thead th {\n",
       "        text-align: right;\n",
       "    }\n",
       "</style>\n",
       "<table border=\"1\" class=\"dataframe\">\n",
       "  <thead>\n",
       "    <tr style=\"text-align: right;\">\n",
       "      <th></th>\n",
       "      <th>Unnamed: 0</th>\n",
       "      <th>문제유형</th>\n",
       "      <th>난이도</th>\n",
       "      <th>문제내용</th>\n",
       "      <th>보기1</th>\n",
       "      <th>보기2</th>\n",
       "      <th>보기3</th>\n",
       "      <th>보기4</th>\n",
       "      <th>정답</th>\n",
       "      <th>해설</th>\n",
       "    </tr>\n",
       "  </thead>\n",
       "  <tbody>\n",
       "    <tr>\n",
       "      <th>3126</th>\n",
       "      <td>자본시장과 금융투자업에 관한 법률 시행령(대통령령)(제35471호)(20250722)</td>\n",
       "      <td>사지선다형</td>\n",
       "      <td>상</td>\n",
       "      <td>「자본시장과 금융투자업에 관한 법률 시행령(대통령령)(제35471호)(2025072...</td>\n",
       "      <td>원금손실 가능금액이 10% 초과</td>\n",
       "      <td>원금손실 가능금액이 20% 초과</td>\n",
       "      <td>원금손실 가능금액이 30% 초과</td>\n",
       "      <td>원금손실 가능금액이 50% 초과</td>\n",
       "      <td>2</td>\n",
       "      <td>「자본시장과 금융투자업에 관한 법률 시행령」 제2조제7항에서 '고난도금융투자상품'은...</td>\n",
       "    </tr>\n",
       "  </tbody>\n",
       "</table>\n",
       "</div>"
      ],
      "text/plain": [
       "                                           Unnamed: 0   문제유형 난이도  \\\n",
       "3126  자본시장과 금융투자업에 관한 법률 시행령(대통령령)(제35471호)(20250722)  사지선다형   상   \n",
       "\n",
       "                                                   문제내용                보기1  \\\n",
       "3126  「자본시장과 금융투자업에 관한 법률 시행령(대통령령)(제35471호)(2025072...  원금손실 가능금액이 10% 초과   \n",
       "\n",
       "                    보기2                보기3                보기4  정답  \\\n",
       "3126  원금손실 가능금액이 20% 초과  원금손실 가능금액이 30% 초과  원금손실 가능금액이 50% 초과   2   \n",
       "\n",
       "                                                     해설  \n",
       "3126  「자본시장과 금융투자업에 관한 법률 시행령」 제2조제7항에서 '고난도금융투자상품'은...  "
      ]
     },
     "execution_count": 19,
     "metadata": {},
     "output_type": "execute_result"
    }
   ],
   "source": [
    "df = pd.read_csv(\"객관식_문제.csv\")\n",
    "df.sample()"
   ]
  },
  {
   "cell_type": "code",
   "execution_count": 20,
   "id": "8271a74a",
   "metadata": {},
   "outputs": [
    {
     "ename": "OutputParserException",
     "evalue": "Parsing text\n```json\n{\n    \"query\": \"금융거래지표의 관리에 관한 법률 제10조에서 금지하는 행위는 무엇인가?\",\n    \"filter\": \"eq(\\\\\\\"chunk_type\\\\\\\", \\\\\\\"article\\\\\\\")\"\n}\n```\n raised following error:\nNo terminal matches '\\' in the current parser context, at line 1 col 4\n\neq(\\\"chunk_type\\\", \\\"article\\\")\n   ^\nExpected one of: \n\t* RPAR\n\t* DATE\n\t* SIGNED_INT\n\t* LSQB\n\t* CNAME\n\t* SIGNED_FLOAT\n\t* /'[^']*'/\n\t* ESCAPED_STRING\n\t* DATETIME\n\nPrevious tokens: Token('LPAR', '(')\n\nFor troubleshooting, visit: https://python.langchain.com/docs/troubleshooting/errors/OUTPUT_PARSING_FAILURE ",
     "output_type": "error",
     "traceback": [
      "\u001b[1;31m---------------------------------------------------------------------------\u001b[0m",
      "\u001b[1;31mUnexpectedCharacters\u001b[0m                      Traceback (most recent call last)",
      "File \u001b[1;32mc:\\Users\\Admin\\anaconda3\\envs\\llm-lab\\lib\\site-packages\\lark\\lexer.py:673\u001b[0m, in \u001b[0;36mContextualLexer.lex\u001b[1;34m(self, lexer_state, parser_state)\u001b[0m\n\u001b[0;32m    672\u001b[0m last_token \u001b[38;5;241m=\u001b[39m lexer_state\u001b[38;5;241m.\u001b[39mlast_token  \u001b[38;5;66;03m# Save last_token. Calling root_lexer.next_token will change this to the wrong token\u001b[39;00m\n\u001b[1;32m--> 673\u001b[0m token \u001b[38;5;241m=\u001b[39m \u001b[38;5;28;43mself\u001b[39;49m\u001b[38;5;241;43m.\u001b[39;49m\u001b[43mroot_lexer\u001b[49m\u001b[38;5;241;43m.\u001b[39;49m\u001b[43mnext_token\u001b[49m\u001b[43m(\u001b[49m\u001b[43mlexer_state\u001b[49m\u001b[43m,\u001b[49m\u001b[43m \u001b[49m\u001b[43mparser_state\u001b[49m\u001b[43m)\u001b[49m\n\u001b[0;32m    674\u001b[0m \u001b[38;5;28;01mraise\u001b[39;00m UnexpectedToken(token, e\u001b[38;5;241m.\u001b[39mallowed, state\u001b[38;5;241m=\u001b[39mparser_state, token_history\u001b[38;5;241m=\u001b[39m[last_token], terminals_by_name\u001b[38;5;241m=\u001b[39m\u001b[38;5;28mself\u001b[39m\u001b[38;5;241m.\u001b[39mroot_lexer\u001b[38;5;241m.\u001b[39mterminals_by_name)\n",
      "File \u001b[1;32mc:\\Users\\Admin\\anaconda3\\envs\\llm-lab\\lib\\site-packages\\lark\\lexer.py:598\u001b[0m, in \u001b[0;36mBasicLexer.next_token\u001b[1;34m(self, lex_state, parser_state)\u001b[0m\n\u001b[0;32m    597\u001b[0m         allowed \u001b[38;5;241m=\u001b[39m {\u001b[38;5;124m\"\u001b[39m\u001b[38;5;124m<END-OF-FILE>\u001b[39m\u001b[38;5;124m\"\u001b[39m}\n\u001b[1;32m--> 598\u001b[0m     \u001b[38;5;28;01mraise\u001b[39;00m UnexpectedCharacters(lex_state\u001b[38;5;241m.\u001b[39mtext, line_ctr\u001b[38;5;241m.\u001b[39mchar_pos, line_ctr\u001b[38;5;241m.\u001b[39mline, line_ctr\u001b[38;5;241m.\u001b[39mcolumn,\n\u001b[0;32m    599\u001b[0m                                allowed\u001b[38;5;241m=\u001b[39mallowed, token_history\u001b[38;5;241m=\u001b[39mlex_state\u001b[38;5;241m.\u001b[39mlast_token \u001b[38;5;129;01mand\u001b[39;00m [lex_state\u001b[38;5;241m.\u001b[39mlast_token],\n\u001b[0;32m    600\u001b[0m                                state\u001b[38;5;241m=\u001b[39mparser_state, terminals_by_name\u001b[38;5;241m=\u001b[39m\u001b[38;5;28mself\u001b[39m\u001b[38;5;241m.\u001b[39mterminals_by_name)\n\u001b[0;32m    602\u001b[0m value, type_ \u001b[38;5;241m=\u001b[39m res\n",
      "\u001b[1;31mUnexpectedCharacters\u001b[0m: No terminal matches '\\' in the current parser context, at line 1 col 4\n\neq(\\\"chunk_type\\\", \\\"article\\\")\n   ^\nExpected one of: \n\t* COMMA\n\t* RPAR\n\t* DATE\n\t* SIGNED_INT\n\t* LPAR\n\t* LSQB\n\t* RSQB\n\t* CNAME\n\t* SIGNED_FLOAT\n\t* /'[^']*'/\n\t* ESCAPED_STRING\n\t* DATETIME\n\nPrevious tokens: Token('LPAR', '(')\n",
      "\nDuring handling of the above exception, another exception occurred:\n",
      "\u001b[1;31mUnexpectedCharacters\u001b[0m                      Traceback (most recent call last)",
      "File \u001b[1;32mc:\\Users\\Admin\\anaconda3\\envs\\llm-lab\\lib\\site-packages\\langchain\\chains\\query_constructor\\base.py:59\u001b[0m, in \u001b[0;36mStructuredQueryOutputParser.parse\u001b[1;34m(self, text)\u001b[0m\n\u001b[0;32m     58\u001b[0m \u001b[38;5;28;01melse\u001b[39;00m:\n\u001b[1;32m---> 59\u001b[0m     parsed[\u001b[38;5;124m\"\u001b[39m\u001b[38;5;124mfilter\u001b[39m\u001b[38;5;124m\"\u001b[39m] \u001b[38;5;241m=\u001b[39m \u001b[38;5;28;43mself\u001b[39;49m\u001b[38;5;241;43m.\u001b[39;49m\u001b[43mast_parse\u001b[49m\u001b[43m(\u001b[49m\u001b[43mparsed\u001b[49m\u001b[43m[\u001b[49m\u001b[38;5;124;43m\"\u001b[39;49m\u001b[38;5;124;43mfilter\u001b[39;49m\u001b[38;5;124;43m\"\u001b[39;49m\u001b[43m]\u001b[49m\u001b[43m)\u001b[49m\n\u001b[0;32m     60\u001b[0m \u001b[38;5;28;01mif\u001b[39;00m \u001b[38;5;129;01mnot\u001b[39;00m parsed\u001b[38;5;241m.\u001b[39mget(\u001b[38;5;124m\"\u001b[39m\u001b[38;5;124mlimit\u001b[39m\u001b[38;5;124m\"\u001b[39m):\n",
      "File \u001b[1;32mc:\\Users\\Admin\\anaconda3\\envs\\llm-lab\\lib\\site-packages\\lark\\lark.py:655\u001b[0m, in \u001b[0;36mLark.parse\u001b[1;34m(self, text, start, on_error)\u001b[0m\n\u001b[0;32m    638\u001b[0m \u001b[38;5;250m\u001b[39m\u001b[38;5;124;03m\"\"\"Parse the given text, according to the options provided.\u001b[39;00m\n\u001b[0;32m    639\u001b[0m \n\u001b[0;32m    640\u001b[0m \u001b[38;5;124;03mParameters:\u001b[39;00m\n\u001b[1;32m   (...)\u001b[0m\n\u001b[0;32m    653\u001b[0m \n\u001b[0;32m    654\u001b[0m \u001b[38;5;124;03m\"\"\"\u001b[39;00m\n\u001b[1;32m--> 655\u001b[0m \u001b[38;5;28;01mreturn\u001b[39;00m \u001b[38;5;28;43mself\u001b[39;49m\u001b[38;5;241;43m.\u001b[39;49m\u001b[43mparser\u001b[49m\u001b[38;5;241;43m.\u001b[39;49m\u001b[43mparse\u001b[49m\u001b[43m(\u001b[49m\u001b[43mtext\u001b[49m\u001b[43m,\u001b[49m\u001b[43m \u001b[49m\u001b[43mstart\u001b[49m\u001b[38;5;241;43m=\u001b[39;49m\u001b[43mstart\u001b[49m\u001b[43m,\u001b[49m\u001b[43m \u001b[49m\u001b[43mon_error\u001b[49m\u001b[38;5;241;43m=\u001b[39;49m\u001b[43mon_error\u001b[49m\u001b[43m)\u001b[49m\n",
      "File \u001b[1;32mc:\\Users\\Admin\\anaconda3\\envs\\llm-lab\\lib\\site-packages\\lark\\parser_frontends.py:104\u001b[0m, in \u001b[0;36mParsingFrontend.parse\u001b[1;34m(self, text, start, on_error)\u001b[0m\n\u001b[0;32m    103\u001b[0m stream \u001b[38;5;241m=\u001b[39m \u001b[38;5;28mself\u001b[39m\u001b[38;5;241m.\u001b[39m_make_lexer_thread(text)\n\u001b[1;32m--> 104\u001b[0m \u001b[38;5;28;01mreturn\u001b[39;00m \u001b[38;5;28mself\u001b[39m\u001b[38;5;241m.\u001b[39mparser\u001b[38;5;241m.\u001b[39mparse(stream, chosen_start, \u001b[38;5;241m*\u001b[39m\u001b[38;5;241m*\u001b[39mkw)\n",
      "File \u001b[1;32mc:\\Users\\Admin\\anaconda3\\envs\\llm-lab\\lib\\site-packages\\lark\\parsers\\lalr_parser.py:42\u001b[0m, in \u001b[0;36mLALR_Parser.parse\u001b[1;34m(self, lexer, start, on_error)\u001b[0m\n\u001b[0;32m     41\u001b[0m \u001b[38;5;28;01mtry\u001b[39;00m:\n\u001b[1;32m---> 42\u001b[0m     \u001b[38;5;28;01mreturn\u001b[39;00m \u001b[38;5;28;43mself\u001b[39;49m\u001b[38;5;241;43m.\u001b[39;49m\u001b[43mparser\u001b[49m\u001b[38;5;241;43m.\u001b[39;49m\u001b[43mparse\u001b[49m\u001b[43m(\u001b[49m\u001b[43mlexer\u001b[49m\u001b[43m,\u001b[49m\u001b[43m \u001b[49m\u001b[43mstart\u001b[49m\u001b[43m)\u001b[49m\n\u001b[0;32m     43\u001b[0m \u001b[38;5;28;01mexcept\u001b[39;00m UnexpectedInput \u001b[38;5;28;01mas\u001b[39;00m e:\n",
      "File \u001b[1;32mc:\\Users\\Admin\\anaconda3\\envs\\llm-lab\\lib\\site-packages\\lark\\parsers\\lalr_parser.py:88\u001b[0m, in \u001b[0;36m_Parser.parse\u001b[1;34m(self, lexer, start, value_stack, state_stack, start_interactive)\u001b[0m\n\u001b[0;32m     87\u001b[0m     \u001b[38;5;28;01mreturn\u001b[39;00m InteractiveParser(\u001b[38;5;28mself\u001b[39m, parser_state, parser_state\u001b[38;5;241m.\u001b[39mlexer)\n\u001b[1;32m---> 88\u001b[0m \u001b[38;5;28;01mreturn\u001b[39;00m \u001b[38;5;28;43mself\u001b[39;49m\u001b[38;5;241;43m.\u001b[39;49m\u001b[43mparse_from_state\u001b[49m\u001b[43m(\u001b[49m\u001b[43mparser_state\u001b[49m\u001b[43m)\u001b[49m\n",
      "File \u001b[1;32mc:\\Users\\Admin\\anaconda3\\envs\\llm-lab\\lib\\site-packages\\lark\\parsers\\lalr_parser.py:111\u001b[0m, in \u001b[0;36m_Parser.parse_from_state\u001b[1;34m(self, state, last_token)\u001b[0m\n\u001b[0;32m    110\u001b[0m         \u001b[38;5;28;01mpass\u001b[39;00m\n\u001b[1;32m--> 111\u001b[0m     \u001b[38;5;28;01mraise\u001b[39;00m e\n\u001b[0;32m    112\u001b[0m \u001b[38;5;28;01mexcept\u001b[39;00m \u001b[38;5;167;01mException\u001b[39;00m \u001b[38;5;28;01mas\u001b[39;00m e:\n",
      "File \u001b[1;32mc:\\Users\\Admin\\anaconda3\\envs\\llm-lab\\lib\\site-packages\\lark\\parsers\\lalr_parser.py:100\u001b[0m, in \u001b[0;36m_Parser.parse_from_state\u001b[1;34m(self, state, last_token)\u001b[0m\n\u001b[0;32m     99\u001b[0m token \u001b[38;5;241m=\u001b[39m last_token\n\u001b[1;32m--> 100\u001b[0m \u001b[38;5;28;01mfor\u001b[39;00m token \u001b[38;5;129;01min\u001b[39;00m state\u001b[38;5;241m.\u001b[39mlexer\u001b[38;5;241m.\u001b[39mlex(state):\n\u001b[0;32m    101\u001b[0m     \u001b[38;5;28;01massert\u001b[39;00m token \u001b[38;5;129;01mis\u001b[39;00m \u001b[38;5;129;01mnot\u001b[39;00m \u001b[38;5;28;01mNone\u001b[39;00m\n",
      "File \u001b[1;32mc:\\Users\\Admin\\anaconda3\\envs\\llm-lab\\lib\\site-packages\\lark\\lexer.py:676\u001b[0m, in \u001b[0;36mContextualLexer.lex\u001b[1;34m(self, lexer_state, parser_state)\u001b[0m\n\u001b[0;32m    675\u001b[0m \u001b[38;5;28;01mexcept\u001b[39;00m UnexpectedCharacters:\n\u001b[1;32m--> 676\u001b[0m     \u001b[38;5;28;01mraise\u001b[39;00m e\n",
      "File \u001b[1;32mc:\\Users\\Admin\\anaconda3\\envs\\llm-lab\\lib\\site-packages\\lark\\lexer.py:665\u001b[0m, in \u001b[0;36mContextualLexer.lex\u001b[1;34m(self, lexer_state, parser_state)\u001b[0m\n\u001b[0;32m    664\u001b[0m         lexer \u001b[38;5;241m=\u001b[39m \u001b[38;5;28mself\u001b[39m\u001b[38;5;241m.\u001b[39mlexers[parser_state\u001b[38;5;241m.\u001b[39mposition]\n\u001b[1;32m--> 665\u001b[0m         \u001b[38;5;28;01myield\u001b[39;00m \u001b[43mlexer\u001b[49m\u001b[38;5;241;43m.\u001b[39;49m\u001b[43mnext_token\u001b[49m\u001b[43m(\u001b[49m\u001b[43mlexer_state\u001b[49m\u001b[43m,\u001b[49m\u001b[43m \u001b[49m\u001b[43mparser_state\u001b[49m\u001b[43m)\u001b[49m\n\u001b[0;32m    666\u001b[0m \u001b[38;5;28;01mexcept\u001b[39;00m \u001b[38;5;167;01mEOFError\u001b[39;00m:\n",
      "File \u001b[1;32mc:\\Users\\Admin\\anaconda3\\envs\\llm-lab\\lib\\site-packages\\lark\\lexer.py:598\u001b[0m, in \u001b[0;36mBasicLexer.next_token\u001b[1;34m(self, lex_state, parser_state)\u001b[0m\n\u001b[0;32m    597\u001b[0m         allowed \u001b[38;5;241m=\u001b[39m {\u001b[38;5;124m\"\u001b[39m\u001b[38;5;124m<END-OF-FILE>\u001b[39m\u001b[38;5;124m\"\u001b[39m}\n\u001b[1;32m--> 598\u001b[0m     \u001b[38;5;28;01mraise\u001b[39;00m UnexpectedCharacters(lex_state\u001b[38;5;241m.\u001b[39mtext, line_ctr\u001b[38;5;241m.\u001b[39mchar_pos, line_ctr\u001b[38;5;241m.\u001b[39mline, line_ctr\u001b[38;5;241m.\u001b[39mcolumn,\n\u001b[0;32m    599\u001b[0m                                allowed\u001b[38;5;241m=\u001b[39mallowed, token_history\u001b[38;5;241m=\u001b[39mlex_state\u001b[38;5;241m.\u001b[39mlast_token \u001b[38;5;129;01mand\u001b[39;00m [lex_state\u001b[38;5;241m.\u001b[39mlast_token],\n\u001b[0;32m    600\u001b[0m                                state\u001b[38;5;241m=\u001b[39mparser_state, terminals_by_name\u001b[38;5;241m=\u001b[39m\u001b[38;5;28mself\u001b[39m\u001b[38;5;241m.\u001b[39mterminals_by_name)\n\u001b[0;32m    602\u001b[0m value, type_ \u001b[38;5;241m=\u001b[39m res\n",
      "\u001b[1;31mUnexpectedCharacters\u001b[0m: No terminal matches '\\' in the current parser context, at line 1 col 4\n\neq(\\\"chunk_type\\\", \\\"article\\\")\n   ^\nExpected one of: \n\t* RPAR\n\t* DATE\n\t* SIGNED_INT\n\t* LSQB\n\t* CNAME\n\t* SIGNED_FLOAT\n\t* /'[^']*'/\n\t* ESCAPED_STRING\n\t* DATETIME\n\nPrevious tokens: Token('LPAR', '(')\n",
      "\nThe above exception was the direct cause of the following exception:\n",
      "\u001b[1;31mOutputParserException\u001b[0m                     Traceback (most recent call last)",
      "Cell \u001b[1;32mIn[20], line 19\u001b[0m\n\u001b[0;32m     16\u001b[0m     col \u001b[38;5;241m=\u001b[39m \u001b[38;5;124m'\u001b[39m\u001b[38;5;124m보기\u001b[39m\u001b[38;5;124m'\u001b[39m \u001b[38;5;241m+\u001b[39m \u001b[38;5;28mstr\u001b[39m(i)\n\u001b[0;32m     17\u001b[0m     question \u001b[38;5;241m+\u001b[39m\u001b[38;5;241m=\u001b[39m sample[col] \u001b[38;5;241m+\u001b[39m \u001b[38;5;124m'\u001b[39m\u001b[38;5;130;01m\\n\u001b[39;00m\u001b[38;5;124m'\u001b[39m\n\u001b[1;32m---> 19\u001b[0m message \u001b[38;5;241m=\u001b[39m \u001b[43mqa_chain\u001b[49m\u001b[38;5;241;43m.\u001b[39;49m\u001b[43minvoke\u001b[49m\u001b[43m(\u001b[49m\u001b[43m{\u001b[49m\u001b[38;5;124;43m\"\u001b[39;49m\u001b[38;5;124;43mquery\u001b[39;49m\u001b[38;5;124;43m\"\u001b[39;49m\u001b[43m:\u001b[49m\u001b[43mquestion\u001b[49m\u001b[43m}\u001b[49m\u001b[43m)\u001b[49m[\u001b[38;5;124m'\u001b[39m\u001b[38;5;124mresult\u001b[39m\u001b[38;5;124m'\u001b[39m]\n\u001b[0;32m     20\u001b[0m \u001b[38;5;28;01mif\u001b[39;00m message \u001b[38;5;241m==\u001b[39m \u001b[38;5;28mstr\u001b[39m(sample[\u001b[38;5;124m'\u001b[39m\u001b[38;5;124m정답\u001b[39m\u001b[38;5;124m'\u001b[39m]):\n\u001b[0;32m     21\u001b[0m     success \u001b[38;5;241m+\u001b[39m\u001b[38;5;241m=\u001b[39m \u001b[38;5;241m1\u001b[39m\n",
      "File \u001b[1;32mc:\\Users\\Admin\\anaconda3\\envs\\llm-lab\\lib\\site-packages\\langchain\\chains\\base.py:165\u001b[0m, in \u001b[0;36mChain.invoke\u001b[1;34m(self, input, config, **kwargs)\u001b[0m\n\u001b[0;32m    162\u001b[0m \u001b[38;5;28;01mtry\u001b[39;00m:\n\u001b[0;32m    163\u001b[0m     \u001b[38;5;28mself\u001b[39m\u001b[38;5;241m.\u001b[39m_validate_inputs(inputs)\n\u001b[0;32m    164\u001b[0m     outputs \u001b[38;5;241m=\u001b[39m (\n\u001b[1;32m--> 165\u001b[0m         \u001b[38;5;28;43mself\u001b[39;49m\u001b[38;5;241;43m.\u001b[39;49m\u001b[43m_call\u001b[49m\u001b[43m(\u001b[49m\u001b[43minputs\u001b[49m\u001b[43m,\u001b[49m\u001b[43m \u001b[49m\u001b[43mrun_manager\u001b[49m\u001b[38;5;241;43m=\u001b[39;49m\u001b[43mrun_manager\u001b[49m\u001b[43m)\u001b[49m\n\u001b[0;32m    166\u001b[0m         \u001b[38;5;28;01mif\u001b[39;00m new_arg_supported\n\u001b[0;32m    167\u001b[0m         \u001b[38;5;28;01melse\u001b[39;00m \u001b[38;5;28mself\u001b[39m\u001b[38;5;241m.\u001b[39m_call(inputs)\n\u001b[0;32m    168\u001b[0m     )\n\u001b[0;32m    170\u001b[0m     final_outputs: \u001b[38;5;28mdict\u001b[39m[\u001b[38;5;28mstr\u001b[39m, Any] \u001b[38;5;241m=\u001b[39m \u001b[38;5;28mself\u001b[39m\u001b[38;5;241m.\u001b[39mprep_outputs(\n\u001b[0;32m    171\u001b[0m         inputs,\n\u001b[0;32m    172\u001b[0m         outputs,\n\u001b[0;32m    173\u001b[0m         return_only_outputs,\n\u001b[0;32m    174\u001b[0m     )\n\u001b[0;32m    175\u001b[0m \u001b[38;5;28;01mexcept\u001b[39;00m \u001b[38;5;167;01mBaseException\u001b[39;00m \u001b[38;5;28;01mas\u001b[39;00m e:\n",
      "File \u001b[1;32mc:\\Users\\Admin\\anaconda3\\envs\\llm-lab\\lib\\site-packages\\langchain\\chains\\retrieval_qa\\base.py:156\u001b[0m, in \u001b[0;36mBaseRetrievalQA._call\u001b[1;34m(self, inputs, run_manager)\u001b[0m\n\u001b[0;32m    152\u001b[0m accepts_run_manager \u001b[38;5;241m=\u001b[39m (\n\u001b[0;32m    153\u001b[0m     \u001b[38;5;124m\"\u001b[39m\u001b[38;5;124mrun_manager\u001b[39m\u001b[38;5;124m\"\u001b[39m \u001b[38;5;129;01min\u001b[39;00m inspect\u001b[38;5;241m.\u001b[39msignature(\u001b[38;5;28mself\u001b[39m\u001b[38;5;241m.\u001b[39m_get_docs)\u001b[38;5;241m.\u001b[39mparameters\n\u001b[0;32m    154\u001b[0m )\n\u001b[0;32m    155\u001b[0m \u001b[38;5;28;01mif\u001b[39;00m accepts_run_manager:\n\u001b[1;32m--> 156\u001b[0m     docs \u001b[38;5;241m=\u001b[39m \u001b[38;5;28;43mself\u001b[39;49m\u001b[38;5;241;43m.\u001b[39;49m\u001b[43m_get_docs\u001b[49m\u001b[43m(\u001b[49m\u001b[43mquestion\u001b[49m\u001b[43m,\u001b[49m\u001b[43m \u001b[49m\u001b[43mrun_manager\u001b[49m\u001b[38;5;241;43m=\u001b[39;49m\u001b[43m_run_manager\u001b[49m\u001b[43m)\u001b[49m\n\u001b[0;32m    157\u001b[0m \u001b[38;5;28;01melse\u001b[39;00m:\n\u001b[0;32m    158\u001b[0m     docs \u001b[38;5;241m=\u001b[39m \u001b[38;5;28mself\u001b[39m\u001b[38;5;241m.\u001b[39m_get_docs(question)  \u001b[38;5;66;03m# type: ignore[call-arg]\u001b[39;00m\n",
      "File \u001b[1;32mc:\\Users\\Admin\\anaconda3\\envs\\llm-lab\\lib\\site-packages\\langchain\\chains\\retrieval_qa\\base.py:278\u001b[0m, in \u001b[0;36mRetrievalQA._get_docs\u001b[1;34m(self, question, run_manager)\u001b[0m\n\u001b[0;32m    271\u001b[0m \u001b[38;5;28;01mdef\u001b[39;00m\u001b[38;5;250m \u001b[39m\u001b[38;5;21m_get_docs\u001b[39m(\n\u001b[0;32m    272\u001b[0m     \u001b[38;5;28mself\u001b[39m,\n\u001b[0;32m    273\u001b[0m     question: \u001b[38;5;28mstr\u001b[39m,\n\u001b[0;32m    274\u001b[0m     \u001b[38;5;241m*\u001b[39m,\n\u001b[0;32m    275\u001b[0m     run_manager: CallbackManagerForChainRun,\n\u001b[0;32m    276\u001b[0m ) \u001b[38;5;241m-\u001b[39m\u001b[38;5;241m>\u001b[39m \u001b[38;5;28mlist\u001b[39m[Document]:\n\u001b[0;32m    277\u001b[0m \u001b[38;5;250m    \u001b[39m\u001b[38;5;124;03m\"\"\"Get docs.\"\"\"\u001b[39;00m\n\u001b[1;32m--> 278\u001b[0m     \u001b[38;5;28;01mreturn\u001b[39;00m \u001b[38;5;28;43mself\u001b[39;49m\u001b[38;5;241;43m.\u001b[39;49m\u001b[43mretriever\u001b[49m\u001b[38;5;241;43m.\u001b[39;49m\u001b[43minvoke\u001b[49m\u001b[43m(\u001b[49m\n\u001b[0;32m    279\u001b[0m \u001b[43m        \u001b[49m\u001b[43mquestion\u001b[49m\u001b[43m,\u001b[49m\n\u001b[0;32m    280\u001b[0m \u001b[43m        \u001b[49m\u001b[43mconfig\u001b[49m\u001b[38;5;241;43m=\u001b[39;49m\u001b[43m{\u001b[49m\u001b[38;5;124;43m\"\u001b[39;49m\u001b[38;5;124;43mcallbacks\u001b[39;49m\u001b[38;5;124;43m\"\u001b[39;49m\u001b[43m:\u001b[49m\u001b[43m \u001b[49m\u001b[43mrun_manager\u001b[49m\u001b[38;5;241;43m.\u001b[39;49m\u001b[43mget_child\u001b[49m\u001b[43m(\u001b[49m\u001b[43m)\u001b[49m\u001b[43m}\u001b[49m\u001b[43m,\u001b[49m\n\u001b[0;32m    281\u001b[0m \u001b[43m    \u001b[49m\u001b[43m)\u001b[49m\n",
      "File \u001b[1;32mc:\\Users\\Admin\\anaconda3\\envs\\llm-lab\\lib\\site-packages\\langchain_core\\retrievers.py:259\u001b[0m, in \u001b[0;36mBaseRetriever.invoke\u001b[1;34m(self, input, config, **kwargs)\u001b[0m\n\u001b[0;32m    257\u001b[0m kwargs_ \u001b[38;5;241m=\u001b[39m kwargs \u001b[38;5;28;01mif\u001b[39;00m \u001b[38;5;28mself\u001b[39m\u001b[38;5;241m.\u001b[39m_expects_other_args \u001b[38;5;28;01melse\u001b[39;00m {}\n\u001b[0;32m    258\u001b[0m \u001b[38;5;28;01mif\u001b[39;00m \u001b[38;5;28mself\u001b[39m\u001b[38;5;241m.\u001b[39m_new_arg_supported:\n\u001b[1;32m--> 259\u001b[0m     result \u001b[38;5;241m=\u001b[39m \u001b[38;5;28mself\u001b[39m\u001b[38;5;241m.\u001b[39m_get_relevant_documents(\n\u001b[0;32m    260\u001b[0m         \u001b[38;5;28minput\u001b[39m, run_manager\u001b[38;5;241m=\u001b[39mrun_manager, \u001b[38;5;241m*\u001b[39m\u001b[38;5;241m*\u001b[39mkwargs_\n\u001b[0;32m    261\u001b[0m     )\n\u001b[0;32m    262\u001b[0m \u001b[38;5;28;01melse\u001b[39;00m:\n\u001b[0;32m    263\u001b[0m     result \u001b[38;5;241m=\u001b[39m \u001b[38;5;28mself\u001b[39m\u001b[38;5;241m.\u001b[39m_get_relevant_documents(\u001b[38;5;28minput\u001b[39m, \u001b[38;5;241m*\u001b[39m\u001b[38;5;241m*\u001b[39mkwargs_)\n",
      "File \u001b[1;32mc:\\Users\\Admin\\anaconda3\\envs\\llm-lab\\lib\\site-packages\\langchain\\retrievers\\self_query\\base.py:318\u001b[0m, in \u001b[0;36mSelfQueryRetriever._get_relevant_documents\u001b[1;34m(self, query, run_manager)\u001b[0m\n\u001b[0;32m    304\u001b[0m \u001b[38;5;28;01mdef\u001b[39;00m\u001b[38;5;250m \u001b[39m\u001b[38;5;21m_get_relevant_documents\u001b[39m(\n\u001b[0;32m    305\u001b[0m     \u001b[38;5;28mself\u001b[39m,\n\u001b[0;32m    306\u001b[0m     query: \u001b[38;5;28mstr\u001b[39m,\n\u001b[0;32m    307\u001b[0m     \u001b[38;5;241m*\u001b[39m,\n\u001b[0;32m    308\u001b[0m     run_manager: CallbackManagerForRetrieverRun,\n\u001b[0;32m    309\u001b[0m ) \u001b[38;5;241m-\u001b[39m\u001b[38;5;241m>\u001b[39m \u001b[38;5;28mlist\u001b[39m[Document]:\n\u001b[0;32m    310\u001b[0m \u001b[38;5;250m    \u001b[39m\u001b[38;5;124;03m\"\"\"Get documents relevant for a query.\u001b[39;00m\n\u001b[0;32m    311\u001b[0m \n\u001b[0;32m    312\u001b[0m \u001b[38;5;124;03m    Args:\u001b[39;00m\n\u001b[1;32m   (...)\u001b[0m\n\u001b[0;32m    316\u001b[0m \u001b[38;5;124;03m        List of relevant documents\u001b[39;00m\n\u001b[0;32m    317\u001b[0m \u001b[38;5;124;03m    \"\"\"\u001b[39;00m\n\u001b[1;32m--> 318\u001b[0m     structured_query \u001b[38;5;241m=\u001b[39m \u001b[38;5;28;43mself\u001b[39;49m\u001b[38;5;241;43m.\u001b[39;49m\u001b[43mquery_constructor\u001b[49m\u001b[38;5;241;43m.\u001b[39;49m\u001b[43minvoke\u001b[49m\u001b[43m(\u001b[49m\n\u001b[0;32m    319\u001b[0m \u001b[43m        \u001b[49m\u001b[43m{\u001b[49m\u001b[38;5;124;43m\"\u001b[39;49m\u001b[38;5;124;43mquery\u001b[39;49m\u001b[38;5;124;43m\"\u001b[39;49m\u001b[43m:\u001b[49m\u001b[43m \u001b[49m\u001b[43mquery\u001b[49m\u001b[43m}\u001b[49m\u001b[43m,\u001b[49m\n\u001b[0;32m    320\u001b[0m \u001b[43m        \u001b[49m\u001b[43mconfig\u001b[49m\u001b[38;5;241;43m=\u001b[39;49m\u001b[43m{\u001b[49m\u001b[38;5;124;43m\"\u001b[39;49m\u001b[38;5;124;43mcallbacks\u001b[39;49m\u001b[38;5;124;43m\"\u001b[39;49m\u001b[43m:\u001b[49m\u001b[43m \u001b[49m\u001b[43mrun_manager\u001b[49m\u001b[38;5;241;43m.\u001b[39;49m\u001b[43mget_child\u001b[49m\u001b[43m(\u001b[49m\u001b[43m)\u001b[49m\u001b[43m}\u001b[49m\u001b[43m,\u001b[49m\n\u001b[0;32m    321\u001b[0m \u001b[43m    \u001b[49m\u001b[43m)\u001b[49m\n\u001b[0;32m    322\u001b[0m     \u001b[38;5;28;01mif\u001b[39;00m \u001b[38;5;28mself\u001b[39m\u001b[38;5;241m.\u001b[39mverbose:\n\u001b[0;32m    323\u001b[0m         logger\u001b[38;5;241m.\u001b[39minfo(\u001b[38;5;124m\"\u001b[39m\u001b[38;5;124mGenerated Query: \u001b[39m\u001b[38;5;132;01m%s\u001b[39;00m\u001b[38;5;124m\"\u001b[39m, structured_query)\n",
      "File \u001b[1;32mc:\\Users\\Admin\\anaconda3\\envs\\llm-lab\\lib\\site-packages\\langchain_core\\runnables\\base.py:5434\u001b[0m, in \u001b[0;36mRunnableBindingBase.invoke\u001b[1;34m(self, input, config, **kwargs)\u001b[0m\n\u001b[0;32m   5427\u001b[0m \u001b[38;5;129m@override\u001b[39m\n\u001b[0;32m   5428\u001b[0m \u001b[38;5;28;01mdef\u001b[39;00m\u001b[38;5;250m \u001b[39m\u001b[38;5;21minvoke\u001b[39m(\n\u001b[0;32m   5429\u001b[0m     \u001b[38;5;28mself\u001b[39m,\n\u001b[1;32m   (...)\u001b[0m\n\u001b[0;32m   5432\u001b[0m     \u001b[38;5;241m*\u001b[39m\u001b[38;5;241m*\u001b[39mkwargs: Optional[Any],\n\u001b[0;32m   5433\u001b[0m ) \u001b[38;5;241m-\u001b[39m\u001b[38;5;241m>\u001b[39m Output:\n\u001b[1;32m-> 5434\u001b[0m     \u001b[38;5;28;01mreturn\u001b[39;00m \u001b[38;5;28mself\u001b[39m\u001b[38;5;241m.\u001b[39mbound\u001b[38;5;241m.\u001b[39minvoke(\n\u001b[0;32m   5435\u001b[0m         \u001b[38;5;28minput\u001b[39m,\n\u001b[0;32m   5436\u001b[0m         \u001b[38;5;28mself\u001b[39m\u001b[38;5;241m.\u001b[39m_merge_configs(config),\n\u001b[0;32m   5437\u001b[0m         \u001b[38;5;241m*\u001b[39m\u001b[38;5;241m*\u001b[39m{\u001b[38;5;241m*\u001b[39m\u001b[38;5;241m*\u001b[39m\u001b[38;5;28mself\u001b[39m\u001b[38;5;241m.\u001b[39mkwargs, \u001b[38;5;241m*\u001b[39m\u001b[38;5;241m*\u001b[39mkwargs},\n\u001b[0;32m   5438\u001b[0m     )\n",
      "File \u001b[1;32mc:\\Users\\Admin\\anaconda3\\envs\\llm-lab\\lib\\site-packages\\langchain_core\\runnables\\base.py:3046\u001b[0m, in \u001b[0;36mRunnableSequence.invoke\u001b[1;34m(self, input, config, **kwargs)\u001b[0m\n\u001b[0;32m   3044\u001b[0m                 input_ \u001b[38;5;241m=\u001b[39m context\u001b[38;5;241m.\u001b[39mrun(step\u001b[38;5;241m.\u001b[39minvoke, input_, config, \u001b[38;5;241m*\u001b[39m\u001b[38;5;241m*\u001b[39mkwargs)\n\u001b[0;32m   3045\u001b[0m             \u001b[38;5;28;01melse\u001b[39;00m:\n\u001b[1;32m-> 3046\u001b[0m                 input_ \u001b[38;5;241m=\u001b[39m \u001b[43mcontext\u001b[49m\u001b[38;5;241;43m.\u001b[39;49m\u001b[43mrun\u001b[49m\u001b[43m(\u001b[49m\u001b[43mstep\u001b[49m\u001b[38;5;241;43m.\u001b[39;49m\u001b[43minvoke\u001b[49m\u001b[43m,\u001b[49m\u001b[43m \u001b[49m\u001b[43minput_\u001b[49m\u001b[43m,\u001b[49m\u001b[43m \u001b[49m\u001b[43mconfig\u001b[49m\u001b[43m)\u001b[49m\n\u001b[0;32m   3047\u001b[0m \u001b[38;5;66;03m# finish the root run\u001b[39;00m\n\u001b[0;32m   3048\u001b[0m \u001b[38;5;28;01mexcept\u001b[39;00m \u001b[38;5;167;01mBaseException\u001b[39;00m \u001b[38;5;28;01mas\u001b[39;00m e:\n",
      "File \u001b[1;32mc:\\Users\\Admin\\anaconda3\\envs\\llm-lab\\lib\\site-packages\\langchain_core\\output_parsers\\base.py:196\u001b[0m, in \u001b[0;36mBaseOutputParser.invoke\u001b[1;34m(self, input, config, **kwargs)\u001b[0m\n\u001b[0;32m    188\u001b[0m \u001b[38;5;129m@override\u001b[39m\n\u001b[0;32m    189\u001b[0m \u001b[38;5;28;01mdef\u001b[39;00m\u001b[38;5;250m \u001b[39m\u001b[38;5;21minvoke\u001b[39m(\n\u001b[0;32m    190\u001b[0m     \u001b[38;5;28mself\u001b[39m,\n\u001b[1;32m   (...)\u001b[0m\n\u001b[0;32m    193\u001b[0m     \u001b[38;5;241m*\u001b[39m\u001b[38;5;241m*\u001b[39mkwargs: Any,\n\u001b[0;32m    194\u001b[0m ) \u001b[38;5;241m-\u001b[39m\u001b[38;5;241m>\u001b[39m T:\n\u001b[0;32m    195\u001b[0m     \u001b[38;5;28;01mif\u001b[39;00m \u001b[38;5;28misinstance\u001b[39m(\u001b[38;5;28minput\u001b[39m, BaseMessage):\n\u001b[1;32m--> 196\u001b[0m         \u001b[38;5;28;01mreturn\u001b[39;00m \u001b[38;5;28;43mself\u001b[39;49m\u001b[38;5;241;43m.\u001b[39;49m\u001b[43m_call_with_config\u001b[49m\u001b[43m(\u001b[49m\n\u001b[0;32m    197\u001b[0m \u001b[43m            \u001b[49m\u001b[38;5;28;43;01mlambda\u001b[39;49;00m\u001b[43m \u001b[49m\u001b[43minner_input\u001b[49m\u001b[43m:\u001b[49m\u001b[43m \u001b[49m\u001b[38;5;28;43mself\u001b[39;49m\u001b[38;5;241;43m.\u001b[39;49m\u001b[43mparse_result\u001b[49m\u001b[43m(\u001b[49m\n\u001b[0;32m    198\u001b[0m \u001b[43m                \u001b[49m\u001b[43m[\u001b[49m\u001b[43mChatGeneration\u001b[49m\u001b[43m(\u001b[49m\u001b[43mmessage\u001b[49m\u001b[38;5;241;43m=\u001b[39;49m\u001b[43minner_input\u001b[49m\u001b[43m)\u001b[49m\u001b[43m]\u001b[49m\n\u001b[0;32m    199\u001b[0m \u001b[43m            \u001b[49m\u001b[43m)\u001b[49m\u001b[43m,\u001b[49m\n\u001b[0;32m    200\u001b[0m \u001b[43m            \u001b[49m\u001b[38;5;28;43minput\u001b[39;49m\u001b[43m,\u001b[49m\n\u001b[0;32m    201\u001b[0m \u001b[43m            \u001b[49m\u001b[43mconfig\u001b[49m\u001b[43m,\u001b[49m\n\u001b[0;32m    202\u001b[0m \u001b[43m            \u001b[49m\u001b[43mrun_type\u001b[49m\u001b[38;5;241;43m=\u001b[39;49m\u001b[38;5;124;43m\"\u001b[39;49m\u001b[38;5;124;43mparser\u001b[39;49m\u001b[38;5;124;43m\"\u001b[39;49m\u001b[43m,\u001b[49m\n\u001b[0;32m    203\u001b[0m \u001b[43m        \u001b[49m\u001b[43m)\u001b[49m\n\u001b[0;32m    204\u001b[0m     \u001b[38;5;28;01mreturn\u001b[39;00m \u001b[38;5;28mself\u001b[39m\u001b[38;5;241m.\u001b[39m_call_with_config(\n\u001b[0;32m    205\u001b[0m         \u001b[38;5;28;01mlambda\u001b[39;00m inner_input: \u001b[38;5;28mself\u001b[39m\u001b[38;5;241m.\u001b[39mparse_result([Generation(text\u001b[38;5;241m=\u001b[39minner_input)]),\n\u001b[0;32m    206\u001b[0m         \u001b[38;5;28minput\u001b[39m,\n\u001b[0;32m    207\u001b[0m         config,\n\u001b[0;32m    208\u001b[0m         run_type\u001b[38;5;241m=\u001b[39m\u001b[38;5;124m\"\u001b[39m\u001b[38;5;124mparser\u001b[39m\u001b[38;5;124m\"\u001b[39m,\n\u001b[0;32m    209\u001b[0m     )\n",
      "File \u001b[1;32mc:\\Users\\Admin\\anaconda3\\envs\\llm-lab\\lib\\site-packages\\langchain_core\\runnables\\base.py:1939\u001b[0m, in \u001b[0;36mRunnable._call_with_config\u001b[1;34m(self, func, input_, config, run_type, serialized, **kwargs)\u001b[0m\n\u001b[0;32m   1935\u001b[0m     child_config \u001b[38;5;241m=\u001b[39m patch_config(config, callbacks\u001b[38;5;241m=\u001b[39mrun_manager\u001b[38;5;241m.\u001b[39mget_child())\n\u001b[0;32m   1936\u001b[0m     \u001b[38;5;28;01mwith\u001b[39;00m set_config_context(child_config) \u001b[38;5;28;01mas\u001b[39;00m context:\n\u001b[0;32m   1937\u001b[0m         output \u001b[38;5;241m=\u001b[39m cast(\n\u001b[0;32m   1938\u001b[0m             \u001b[38;5;124m\"\u001b[39m\u001b[38;5;124mOutput\u001b[39m\u001b[38;5;124m\"\u001b[39m,\n\u001b[1;32m-> 1939\u001b[0m             context\u001b[38;5;241m.\u001b[39mrun(\n\u001b[0;32m   1940\u001b[0m                 call_func_with_variable_args,  \u001b[38;5;66;03m# type: ignore[arg-type]\u001b[39;00m\n\u001b[0;32m   1941\u001b[0m                 func,\n\u001b[0;32m   1942\u001b[0m                 input_,\n\u001b[0;32m   1943\u001b[0m                 config,\n\u001b[0;32m   1944\u001b[0m                 run_manager,\n\u001b[0;32m   1945\u001b[0m                 \u001b[38;5;241m*\u001b[39m\u001b[38;5;241m*\u001b[39mkwargs,\n\u001b[0;32m   1946\u001b[0m             ),\n\u001b[0;32m   1947\u001b[0m         )\n\u001b[0;32m   1948\u001b[0m \u001b[38;5;28;01mexcept\u001b[39;00m \u001b[38;5;167;01mBaseException\u001b[39;00m \u001b[38;5;28;01mas\u001b[39;00m e:\n\u001b[0;32m   1949\u001b[0m     run_manager\u001b[38;5;241m.\u001b[39mon_chain_error(e)\n",
      "File \u001b[1;32mc:\\Users\\Admin\\anaconda3\\envs\\llm-lab\\lib\\site-packages\\langchain_core\\runnables\\config.py:429\u001b[0m, in \u001b[0;36mcall_func_with_variable_args\u001b[1;34m(func, input, config, run_manager, **kwargs)\u001b[0m\n\u001b[0;32m    427\u001b[0m \u001b[38;5;28;01mif\u001b[39;00m run_manager \u001b[38;5;129;01mis\u001b[39;00m \u001b[38;5;129;01mnot\u001b[39;00m \u001b[38;5;28;01mNone\u001b[39;00m \u001b[38;5;129;01mand\u001b[39;00m accepts_run_manager(func):\n\u001b[0;32m    428\u001b[0m     kwargs[\u001b[38;5;124m\"\u001b[39m\u001b[38;5;124mrun_manager\u001b[39m\u001b[38;5;124m\"\u001b[39m] \u001b[38;5;241m=\u001b[39m run_manager\n\u001b[1;32m--> 429\u001b[0m \u001b[38;5;28;01mreturn\u001b[39;00m func(\u001b[38;5;28minput\u001b[39m, \u001b[38;5;241m*\u001b[39m\u001b[38;5;241m*\u001b[39mkwargs)\n",
      "File \u001b[1;32mc:\\Users\\Admin\\anaconda3\\envs\\llm-lab\\lib\\site-packages\\langchain_core\\output_parsers\\base.py:197\u001b[0m, in \u001b[0;36mBaseOutputParser.invoke.<locals>.<lambda>\u001b[1;34m(inner_input)\u001b[0m\n\u001b[0;32m    188\u001b[0m \u001b[38;5;129m@override\u001b[39m\n\u001b[0;32m    189\u001b[0m \u001b[38;5;28;01mdef\u001b[39;00m\u001b[38;5;250m \u001b[39m\u001b[38;5;21minvoke\u001b[39m(\n\u001b[0;32m    190\u001b[0m     \u001b[38;5;28mself\u001b[39m,\n\u001b[1;32m   (...)\u001b[0m\n\u001b[0;32m    193\u001b[0m     \u001b[38;5;241m*\u001b[39m\u001b[38;5;241m*\u001b[39mkwargs: Any,\n\u001b[0;32m    194\u001b[0m ) \u001b[38;5;241m-\u001b[39m\u001b[38;5;241m>\u001b[39m T:\n\u001b[0;32m    195\u001b[0m     \u001b[38;5;28;01mif\u001b[39;00m \u001b[38;5;28misinstance\u001b[39m(\u001b[38;5;28minput\u001b[39m, BaseMessage):\n\u001b[0;32m    196\u001b[0m         \u001b[38;5;28;01mreturn\u001b[39;00m \u001b[38;5;28mself\u001b[39m\u001b[38;5;241m.\u001b[39m_call_with_config(\n\u001b[1;32m--> 197\u001b[0m             \u001b[38;5;28;01mlambda\u001b[39;00m inner_input: \u001b[38;5;28;43mself\u001b[39;49m\u001b[38;5;241;43m.\u001b[39;49m\u001b[43mparse_result\u001b[49m\u001b[43m(\u001b[49m\n\u001b[0;32m    198\u001b[0m \u001b[43m                \u001b[49m\u001b[43m[\u001b[49m\u001b[43mChatGeneration\u001b[49m\u001b[43m(\u001b[49m\u001b[43mmessage\u001b[49m\u001b[38;5;241;43m=\u001b[39;49m\u001b[43minner_input\u001b[49m\u001b[43m)\u001b[49m\u001b[43m]\u001b[49m\n\u001b[0;32m    199\u001b[0m \u001b[43m            \u001b[49m\u001b[43m)\u001b[49m,\n\u001b[0;32m    200\u001b[0m             \u001b[38;5;28minput\u001b[39m,\n\u001b[0;32m    201\u001b[0m             config,\n\u001b[0;32m    202\u001b[0m             run_type\u001b[38;5;241m=\u001b[39m\u001b[38;5;124m\"\u001b[39m\u001b[38;5;124mparser\u001b[39m\u001b[38;5;124m\"\u001b[39m,\n\u001b[0;32m    203\u001b[0m         )\n\u001b[0;32m    204\u001b[0m     \u001b[38;5;28;01mreturn\u001b[39;00m \u001b[38;5;28mself\u001b[39m\u001b[38;5;241m.\u001b[39m_call_with_config(\n\u001b[0;32m    205\u001b[0m         \u001b[38;5;28;01mlambda\u001b[39;00m inner_input: \u001b[38;5;28mself\u001b[39m\u001b[38;5;241m.\u001b[39mparse_result([Generation(text\u001b[38;5;241m=\u001b[39minner_input)]),\n\u001b[0;32m    206\u001b[0m         \u001b[38;5;28minput\u001b[39m,\n\u001b[0;32m    207\u001b[0m         config,\n\u001b[0;32m    208\u001b[0m         run_type\u001b[38;5;241m=\u001b[39m\u001b[38;5;124m\"\u001b[39m\u001b[38;5;124mparser\u001b[39m\u001b[38;5;124m\"\u001b[39m,\n\u001b[0;32m    209\u001b[0m     )\n",
      "File \u001b[1;32mc:\\Users\\Admin\\anaconda3\\envs\\llm-lab\\lib\\site-packages\\langchain_core\\output_parsers\\base.py:250\u001b[0m, in \u001b[0;36mBaseOutputParser.parse_result\u001b[1;34m(self, result, partial)\u001b[0m\n\u001b[0;32m    234\u001b[0m \u001b[38;5;129m@override\u001b[39m\n\u001b[0;32m    235\u001b[0m \u001b[38;5;28;01mdef\u001b[39;00m\u001b[38;5;250m \u001b[39m\u001b[38;5;21mparse_result\u001b[39m(\u001b[38;5;28mself\u001b[39m, result: \u001b[38;5;28mlist\u001b[39m[Generation], \u001b[38;5;241m*\u001b[39m, partial: \u001b[38;5;28mbool\u001b[39m \u001b[38;5;241m=\u001b[39m \u001b[38;5;28;01mFalse\u001b[39;00m) \u001b[38;5;241m-\u001b[39m\u001b[38;5;241m>\u001b[39m T:\n\u001b[0;32m    236\u001b[0m \u001b[38;5;250m    \u001b[39m\u001b[38;5;124;03m\"\"\"Parse a list of candidate model Generations into a specific format.\u001b[39;00m\n\u001b[0;32m    237\u001b[0m \n\u001b[0;32m    238\u001b[0m \u001b[38;5;124;03m    The return value is parsed from only the first Generation in the result, which\u001b[39;00m\n\u001b[1;32m   (...)\u001b[0m\n\u001b[0;32m    248\u001b[0m \u001b[38;5;124;03m        Structured output.\u001b[39;00m\n\u001b[0;32m    249\u001b[0m \u001b[38;5;124;03m    \"\"\"\u001b[39;00m\n\u001b[1;32m--> 250\u001b[0m     \u001b[38;5;28;01mreturn\u001b[39;00m \u001b[38;5;28;43mself\u001b[39;49m\u001b[38;5;241;43m.\u001b[39;49m\u001b[43mparse\u001b[49m\u001b[43m(\u001b[49m\u001b[43mresult\u001b[49m\u001b[43m[\u001b[49m\u001b[38;5;241;43m0\u001b[39;49m\u001b[43m]\u001b[49m\u001b[38;5;241;43m.\u001b[39;49m\u001b[43mtext\u001b[49m\u001b[43m)\u001b[49m\n",
      "File \u001b[1;32mc:\\Users\\Admin\\anaconda3\\envs\\llm-lab\\lib\\site-packages\\langchain\\chains\\query_constructor\\base.py:67\u001b[0m, in \u001b[0;36mStructuredQueryOutputParser.parse\u001b[1;34m(self, text)\u001b[0m\n\u001b[0;32m     65\u001b[0m \u001b[38;5;28;01mexcept\u001b[39;00m \u001b[38;5;167;01mException\u001b[39;00m \u001b[38;5;28;01mas\u001b[39;00m e:\n\u001b[0;32m     66\u001b[0m     msg \u001b[38;5;241m=\u001b[39m \u001b[38;5;124mf\u001b[39m\u001b[38;5;124m\"\u001b[39m\u001b[38;5;124mParsing text\u001b[39m\u001b[38;5;130;01m\\n\u001b[39;00m\u001b[38;5;132;01m{\u001b[39;00mtext\u001b[38;5;132;01m}\u001b[39;00m\u001b[38;5;130;01m\\n\u001b[39;00m\u001b[38;5;124m raised following error:\u001b[39m\u001b[38;5;130;01m\\n\u001b[39;00m\u001b[38;5;132;01m{\u001b[39;00me\u001b[38;5;132;01m}\u001b[39;00m\u001b[38;5;124m\"\u001b[39m\n\u001b[1;32m---> 67\u001b[0m     \u001b[38;5;28;01mraise\u001b[39;00m OutputParserException(msg) \u001b[38;5;28;01mfrom\u001b[39;00m\u001b[38;5;250m \u001b[39m\u001b[38;5;21;01me\u001b[39;00m\n",
      "\u001b[1;31mOutputParserException\u001b[0m: Parsing text\n```json\n{\n    \"query\": \"금융거래지표의 관리에 관한 법률 제10조에서 금지하는 행위는 무엇인가?\",\n    \"filter\": \"eq(\\\\\\\"chunk_type\\\\\\\", \\\\\\\"article\\\\\\\")\"\n}\n```\n raised following error:\nNo terminal matches '\\' in the current parser context, at line 1 col 4\n\neq(\\\"chunk_type\\\", \\\"article\\\")\n   ^\nExpected one of: \n\t* RPAR\n\t* DATE\n\t* SIGNED_INT\n\t* LSQB\n\t* CNAME\n\t* SIGNED_FLOAT\n\t* /'[^']*'/\n\t* ESCAPED_STRING\n\t* DATETIME\n\nPrevious tokens: Token('LPAR', '(')\n\nFor troubleshooting, visit: https://python.langchain.com/docs/troubleshooting/errors/OUTPUT_PARSING_FAILURE "
     ]
    }
   ],
   "source": [
    "success, fail = 0, 0\n",
    "fail_questions = []\n",
    "gpt = []\n",
    "act = []\n",
    "for i in range(100):\n",
    "    sample = df.loc[i]\n",
    "    question = \"\"\"아래 문제를 보고 답을 고르시오.\n",
    "만약 보기 중 3번째 보기가 정답이라면 3 이라고 출력하시오.\n",
    "보기가 A,B,C,D 라면 1,2,3,4 라고 생각하고 답변하시오.\n",
    "오직 숫자만 출력하시오.\n",
    "출력 예시: 3\n",
    "\"\"\"\n",
    "    question += sample['문제내용'] + '\\n'\n",
    "\n",
    "    for i in range(1,5):\n",
    "        col = '보기' + str(i)\n",
    "        question += sample[col] + '\\n'\n",
    "\n",
    "    message = qa_chain.invoke({\"query\":question})['result']\n",
    "    if message == str(sample['정답']):\n",
    "        success += 1\n",
    "    else:\n",
    "        fail += 1\n",
    "        fail_questions.append(sample['문제내용']) # 틀린문제만 추출해서 살펴보기\n",
    "    gpt.append(message)\n",
    "    act.append( str(sample['정답']))"
   ]
  },
  {
   "cell_type": "code",
   "execution_count": 21,
   "id": "a6b732d6",
   "metadata": {},
   "outputs": [
    {
     "name": "stdout",
     "output_type": "stream",
     "text": [
      "정답 갯수 : 34\n",
      "오답 갯수 : 40\n",
      "정확도 : 0.4594594594594595\n",
      "챗봇에 대답:  ['1', '모릅니다.', '모르겠습니다', '3', '모른다.', '2', '1', '모르겠습니다.', '모름', '3', '2', '모른다', '2', '3', '2', '2', '3', '1', '3', '3', '4', '2', '3', '3', '3', '4', '4', '모르겠습니다.', '1', '모르겠습니다.', '모릅니다.', '2', '4', '1', '4', '모른다.', '2', '1', '2', '모르겠습니다.', '모르겠습니다.', '1', '1', '1', '2', '2', '2', '4', '1', '1', '1', '3', '1', '1', '모른다.', '2', '1', '1', '정답을 알 수 없습니다.', '1', '2', '모르겠습니다.', '모르겠습니다', '모른다', '모른다.', '2', '모른다', '2', '모르겠습니다.', '모른다', '3', '3', '1', '모름']\n",
      "실제 답    :  ['1', '2', '3', '3', '2', '2', '4', '3', '3', '3', '2', '1', '2', '3', '1', '2', '3', '1', '3', '2', '2', '3', '1', '3', '1', '1', '4', '2', '1', '1', '1', '2', '2', '1', '1', '3', '1', '1', '2', '1', '1', '1', '1', '1', '2', '2', '2', '1', '1', '1', '3', '3', '2', '1', '1', '1', '1', '1', '2', '2', '2', '1', '1', '2', '1', '2', '1', '1', '1', '1', '1', '3', '1', '2']\n"
     ]
    }
   ],
   "source": [
    "print('정답 갯수 :', success)\n",
    "print('오답 갯수 :', fail)\n",
    "print('정확도 :', (success)/(success+fail))\n",
    "print('챗봇에 대답: ', gpt)\n",
    "print('실제 답    : ', act)"
   ]
  },
  {
   "cell_type": "markdown",
   "id": "a8caa084",
   "metadata": {},
   "source": [
    "## 2-1. 틀린문제 분석"
   ]
  },
  {
   "cell_type": "code",
   "execution_count": 64,
   "id": "f35059bb",
   "metadata": {},
   "outputs": [
    {
     "data": {
      "text/html": [
       "<div>\n",
       "<style scoped>\n",
       "    .dataframe tbody tr th:only-of-type {\n",
       "        vertical-align: middle;\n",
       "    }\n",
       "\n",
       "    .dataframe tbody tr th {\n",
       "        vertical-align: top;\n",
       "    }\n",
       "\n",
       "    .dataframe thead th {\n",
       "        text-align: right;\n",
       "    }\n",
       "</style>\n",
       "<table border=\"1\" class=\"dataframe\">\n",
       "  <thead>\n",
       "    <tr style=\"text-align: right;\">\n",
       "      <th></th>\n",
       "      <th>Unnamed: 0</th>\n",
       "      <th>문제유형</th>\n",
       "      <th>난이도</th>\n",
       "      <th>문제내용</th>\n",
       "      <th>보기1</th>\n",
       "      <th>보기2</th>\n",
       "      <th>보기3</th>\n",
       "      <th>보기4</th>\n",
       "      <th>정답</th>\n",
       "      <th>해설</th>\n",
       "    </tr>\n",
       "  </thead>\n",
       "  <tbody>\n",
       "    <tr>\n",
       "      <th>10</th>\n",
       "      <td>개인금융채권의 관리 및 개인금융채무자의 보호에 관한 법률 시행령(대통령령)(제349...</td>\n",
       "      <td>사지선다형</td>\n",
       "      <td>중</td>\n",
       "      <td>「개인금융채권의 관리 및 개인금융채무자의 보호에 관한 법률 시행령(대통령령)(제34...</td>\n",
       "      <td>즉시 법원에 신고</td>\n",
       "      <td>지체 없이 시정 요구</td>\n",
       "      <td>채무자에게 통지</td>\n",
       "      <td>금융위원회에 보고</td>\n",
       "      <td>2</td>\n",
       "      <td>제25조에 따르면 지체 없이 시정을 요구해야 한다.</td>\n",
       "    </tr>\n",
       "  </tbody>\n",
       "</table>\n",
       "</div>"
      ],
      "text/plain": [
       "                                           Unnamed: 0   문제유형 난이도  \\\n",
       "10  개인금융채권의 관리 및 개인금융채무자의 보호에 관한 법률 시행령(대통령령)(제349...  사지선다형   중   \n",
       "\n",
       "                                                 문제내용        보기1          보기2  \\\n",
       "10  「개인금융채권의 관리 및 개인금융채무자의 보호에 관한 법률 시행령(대통령령)(제34...  즉시 법원에 신고  지체 없이 시정 요구   \n",
       "\n",
       "         보기3        보기4  정답                            해설  \n",
       "10  채무자에게 통지  금융위원회에 보고   2  제25조에 따르면 지체 없이 시정을 요구해야 한다.  "
      ]
     },
     "execution_count": 64,
     "metadata": {},
     "output_type": "execute_result"
    }
   ],
   "source": [
    "df[[df['문제내용'] == q for q in fail_questions][0]]"
   ]
  },
  {
   "cell_type": "code",
   "execution_count": 69,
   "id": "20c0e929",
   "metadata": {},
   "outputs": [
    {
     "data": {
      "text/plain": [
       "[(Document(id='a8ffed9b-ad0f-4d66-92f3-c92c335edc88', metadata={'chunk_type': 'article', 'source': '..\\\\..\\\\내파일\\\\은행법령\\\\한국은행 통화안정증권법(법률)(제14052호)(20160603).docx'}, page_content='제3조(무기명증권과 등록증권) ① 삭제 <2016. 3. 2.>\\n\\n②'),\n",
       "  0.216716647),\n",
       " (Document(id='cda3dcb0-0597-42fb-a7e4-5c8af1193190', metadata={'chunk_type': 'article', 'source': '..\\\\..\\\\내파일\\\\상법투자자산증권주식법령\\\\한국은행 통화안정증권법(법률)(제14052호)(20160603).docx'}, page_content='제3조(무기명증권과 등록증권) ① 삭제 <2016. 3. 2.>\\n\\n②'),\n",
       "  0.216452703),\n",
       " (Document(id='a41d6be0-998a-47d0-8a1b-c3be7561e7be', metadata={'chunk_type': 'article', 'source': '..\\\\..\\\\내파일\\\\금융법령\\\\자본시장과 금융투자업에 관한 법률(법률)(제20718호)(20250722).docx'}, page_content='제365조(명의개서대행회사의 등록) ① 증권의 명의개서를 대행하는 업무를 영위하려는 자는 금융위원회에 등록하여야 한다. <개정 2008. 2. 29.>\\n\\n② 제1항에 따른 등록을 하려는 자는 다음 각 호의 요건을 모두 갖추어야 한다.<개정 2016. 3. 22.>\\n\\n1. 전자등록기관 또는 전국적인 점포망을 갖춘 은행일 것\\n\\n2. 전산설비 등 대통령령으로 정하는 물적 설비를 갖출 것\\n\\n3. 대통령령으로 정하는 이해상충방지체계를 구축하고 있을 것\\n\\n③ 제1항에 따른 등록을 하려는 자는 금융위원회에 등록신청서를 제출하여야 한다.<개정 2008. 2. 29.>\\n\\n④ 금융위원회는 제3항의 등록신청서를 접수한 경우에는 그 내용을 검토하여 2개월 이내에 등록 여부를 결정하고, 그 결과와 이유를 지체 없이 신청인에게 문서로 통지하여야 한다. 이 경우 등록신청서에 흠결이 있는 때에는 보완을 요구할 수 있다.<개정 2008. 2. 29.>\\n\\n⑤ 제4항의 검토기간을 산정함에 있어서 등록신청서 흠결의 보완기간 등 총리령으로 정하는 기간은 검토기간에 산입하지 아니한다.<개정 2008. 2. 29.>\\n\\n⑥ 금융위원회는 제4항의 등록 여부를 결정함에 있어서 다음 각 호의 어느 하나에 해당하는 사유가 없는 한 그 등록을 거부하여서는 아니 된다.<개정 2008. 2. 29.>\\n\\n1. 제2항의 등록요건을 갖추지 아니한 경우\\n\\n2. 제3항의 등록신청서를 거짓으로 작성한 경우\\n\\n3. 제4항 후단의 보완요구를 이행하지 아니한 경우\\n\\n⑦ 금융위원회는 제4항에 따라 등록을 결정한 경우 명의개서대행회사등록부에 필요한 사항을 기재하여야 하며, 등록결정한 내용을 관보 및 인터넷 홈페이지 등에 공고하여야 한다.<개정 2008. 2. 29.>\\n\\n⑧ 명의개서대행회사는 등록 이후 그 영업을 영위함에 있어서 제2항 각 호의 등록요건을 계속 유지하여야 한다.\\n\\n⑨ 제1항부터 제7항까지의 규정에 따른 등록신청서의 기재사항ㆍ첨부서류 등 등록의 신청에 관한 사항과 등록검토의 방법ㆍ절차, 그 밖에 필요한 사항은 대통령령으로 정한다.'),\n",
       "  0.201432139),\n",
       " (Document(id='9cc1df7a-8ab9-469b-ada2-f4aff351b10c', metadata={'chunk_type': 'article', 'source': '..\\\\..\\\\내파일\\\\상법투자자산증권주식법령\\\\자본시장과 금융투자업에 관한 법률(법률)(제20718호)(20250722).docx'}, page_content='제365조(명의개서대행회사의 등록) ① 증권의 명의개서를 대행하는 업무를 영위하려는 자는 금융위원회에 등록하여야 한다. <개정 2008. 2. 29.>\\n\\n② 제1항에 따른 등록을 하려는 자는 다음 각 호의 요건을 모두 갖추어야 한다.<개정 2016. 3. 22.>\\n\\n1. 전자등록기관 또는 전국적인 점포망을 갖춘 은행일 것\\n\\n2. 전산설비 등 대통령령으로 정하는 물적 설비를 갖출 것\\n\\n3. 대통령령으로 정하는 이해상충방지체계를 구축하고 있을 것\\n\\n③ 제1항에 따른 등록을 하려는 자는 금융위원회에 등록신청서를 제출하여야 한다.<개정 2008. 2. 29.>\\n\\n④ 금융위원회는 제3항의 등록신청서를 접수한 경우에는 그 내용을 검토하여 2개월 이내에 등록 여부를 결정하고, 그 결과와 이유를 지체 없이 신청인에게 문서로 통지하여야 한다. 이 경우 등록신청서에 흠결이 있는 때에는 보완을 요구할 수 있다.<개정 2008. 2. 29.>\\n\\n⑤ 제4항의 검토기간을 산정함에 있어서 등록신청서 흠결의 보완기간 등 총리령으로 정하는 기간은 검토기간에 산입하지 아니한다.<개정 2008. 2. 29.>\\n\\n⑥ 금융위원회는 제4항의 등록 여부를 결정함에 있어서 다음 각 호의 어느 하나에 해당하는 사유가 없는 한 그 등록을 거부하여서는 아니 된다.<개정 2008. 2. 29.>\\n\\n1. 제2항의 등록요건을 갖추지 아니한 경우\\n\\n2. 제3항의 등록신청서를 거짓으로 작성한 경우\\n\\n3. 제4항 후단의 보완요구를 이행하지 아니한 경우\\n\\n⑦ 금융위원회는 제4항에 따라 등록을 결정한 경우 명의개서대행회사등록부에 필요한 사항을 기재하여야 하며, 등록결정한 내용을 관보 및 인터넷 홈페이지 등에 공고하여야 한다.<개정 2008. 2. 29.>\\n\\n⑧ 명의개서대행회사는 등록 이후 그 영업을 영위함에 있어서 제2항 각 호의 등록요건을 계속 유지하여야 한다.\\n\\n⑨ 제1항부터 제7항까지의 규정에 따른 등록신청서의 기재사항ㆍ첨부서류 등 등록의 신청에 관한 사항과 등록검토의 방법ㆍ절차, 그 밖에 필요한 사항은 대통령령으로 정한다.'),\n",
       "  0.201310441)]"
      ]
     },
     "execution_count": 69,
     "metadata": {},
     "output_type": "execute_result"
    }
   ],
   "source": [
    "database.similarity_search_with_score(df[[df['문제내용'] == q for q in fail_questions][0]])"
   ]
  },
  {
   "cell_type": "code",
   "execution_count": null,
   "id": "ff14ad99",
   "metadata": {},
   "outputs": [],
   "source": []
  },
  {
   "cell_type": "markdown",
   "id": "d96923e3",
   "metadata": {},
   "source": [
    "# 3. 단답형 문제로 검증 실행"
   ]
  },
  {
   "cell_type": "code",
   "execution_count": 27,
   "id": "0ac84f16",
   "metadata": {},
   "outputs": [
    {
     "data": {
      "text/html": [
       "<div>\n",
       "<style scoped>\n",
       "    .dataframe tbody tr th:only-of-type {\n",
       "        vertical-align: middle;\n",
       "    }\n",
       "\n",
       "    .dataframe tbody tr th {\n",
       "        vertical-align: top;\n",
       "    }\n",
       "\n",
       "    .dataframe thead th {\n",
       "        text-align: right;\n",
       "    }\n",
       "</style>\n",
       "<table border=\"1\" class=\"dataframe\">\n",
       "  <thead>\n",
       "    <tr style=\"text-align: right;\">\n",
       "      <th></th>\n",
       "      <th>법령명</th>\n",
       "      <th>문제유형</th>\n",
       "      <th>난이도</th>\n",
       "      <th>문제내용</th>\n",
       "      <th>정답</th>\n",
       "      <th>해설</th>\n",
       "    </tr>\n",
       "  </thead>\n",
       "  <tbody>\n",
       "    <tr>\n",
       "      <th>1091</th>\n",
       "      <td>외국인투자 촉진법 시행규칙(산업통상자원부령)(제00518호)(20230803)</td>\n",
       "      <td>단답형</td>\n",
       "      <td>중</td>\n",
       "      <td>「외국인투자 촉진법 시행규칙(산업통상자원부령)(제00518호)(20230803)」 ...</td>\n",
       "      <td>별지 제20호 서식</td>\n",
       "      <td>제19조에 따르면 별지 제20호 서식의 보고서를 제출해야 한다.</td>\n",
       "    </tr>\n",
       "  </tbody>\n",
       "</table>\n",
       "</div>"
      ],
      "text/plain": [
       "                                              법령명 문제유형 난이도  \\\n",
       "1091  외국인투자 촉진법 시행규칙(산업통상자원부령)(제00518호)(20230803)  단답형   중   \n",
       "\n",
       "                                                   문제내용          정답  \\\n",
       "1091  「외국인투자 촉진법 시행규칙(산업통상자원부령)(제00518호)(20230803)」 ...  별지 제20호 서식   \n",
       "\n",
       "                                       해설  \n",
       "1091  제19조에 따르면 별지 제20호 서식의 보고서를 제출해야 한다.  "
      ]
     },
     "execution_count": 27,
     "metadata": {},
     "output_type": "execute_result"
    }
   ],
   "source": [
    "df = pd.read_csv(\"단답형_문제.csv\")\n",
    "df.sample()"
   ]
  },
  {
   "cell_type": "code",
   "execution_count": 28,
   "id": "ef55c78e",
   "metadata": {},
   "outputs": [],
   "source": [
    "results = []\n",
    "SIMILARITY_THRESHOLD = 0.7"
   ]
  },
  {
   "cell_type": "code",
   "execution_count": 29,
   "id": "b4bb7cc7",
   "metadata": {},
   "outputs": [],
   "source": [
    "success, fail = 0, 0\n",
    "gpt = []\n",
    "act = []\n",
    "for i in range(50):\n",
    "\n",
    "    question = \"\"\"아래 문제를 보고 짧고 간단하게 답을 단답식으로 제출하시오.\n",
    "    좋은 답변들 예시 : ['대주주와의 거래', '지배구조법 대주주', '금융위원회', '제12조', '5%']\n",
    "    이와같이 30자 이내로 핵심 단어의 단답형으로 답변하시오.\n",
    "    \"\"\"\n",
    "\n",
    "    sample = df.loc[i]\n",
    "    question += sample['문제내용']\n",
    "    answer = sample['정답']\n",
    "\n",
    "\n",
    "    \n",
    "    message = qa_chain.invoke({\"query\": question})['result']\n",
    "\n",
    "    ground_truth_embedding = embedding.embed_query(answer)\n",
    "    prediction_embedding = embedding.embed_query(message)\n",
    "    \n",
    "    score = cosine_similarity(\n",
    "        np.array(ground_truth_embedding).reshape(1, -1),\n",
    "        np.array(prediction_embedding).reshape(1, -1)\n",
    "    )[0][0]\n",
    "    \n",
    "    if score >= SIMILARITY_THRESHOLD:\n",
    "        success += 1\n",
    "    else:\n",
    "        fail += 1\n",
    "        \n",
    "    gpt.append(message)\n",
    "    act.append(answer)"
   ]
  },
  {
   "cell_type": "code",
   "execution_count": 30,
   "id": "58f867df",
   "metadata": {},
   "outputs": [
    {
     "name": "stdout",
     "output_type": "stream",
     "text": [
      "정답 갯수 : 14\n",
      "오답 갯수 : 36\n",
      "정확도 : 0.28\n",
      "챗봇에 대답:  ['3개월', '모르겠습니다.', '보호감시인', '모르겠습니다.', '보고 및 조치', '기초자료의수집및중요지표산정', '정관', '모른다.', '유의사항 공시, 대체지표 안내, 중단 안내', '주민등록자료', '은행', '국제금융기구에의 가입조치에 필요한 재원', '제2조제3항에 따른 경우', '공공기관 차입용 증권 발행', '출자금', '국회 의결', '임치소', '지급의무', '출자금 예산 반영 의무', '기획재정부장관', '국제금융기구 가입 및 협정이행', '개인금융채권을 보유한 자', '개인금융채무자보호제도정비', '이 법의 우선 적용', '금융거래를 하는 기관', '대규모 거래, 대체지표 부재, 타당성 저해 시', '중요지표 관리위원회', '모름', '국내행위및국내효과있는국외행위까지적용', '법', '정보 부족', '운영, 인식·평가·감시·통제, 분야별·소속별 위험한도·자본배분, 이해상충대책, 기타사항', '대통령령으로 정하는 사항', '요건 충족 시', '재무·경영상 위험 관리·감독', '응모총액을 발행총액으로 본다', '모집종료즉시납입', '현저한 통화팽창기', '액면발행, 할인발행, 할증발행', '발행총액 50%이상', '금융상품직접판매업, 모집인, 그 밖의 자', '자료의 제공 요청에 관한 사무', '금융상품을 올바르게 선택', '3가지 유형', '모름', '예금채권을 가진 자', '이사, 감사, 집행임원, 업무집행책임자', '자본확충을 위한 신속한 자금지원', '금융산업의 합리화', '6개월']\n",
      "실제 답    :  ['3개월', '개인금융채무자의 권익과 금융질서', '업무의 분장 및 조직구조', '개인금융채무자', '지체 없이 시정 요구', '중요지표의 산출 방법 및 절차', '정관 또는 이에 준하는 규정', '전문지식과 경험', '산출업무규정의 내용', '기초자료 제출 방법 변경 사항', '새마을금고', '출자금 또는 출연금은 국제금융기구에 납입하는 금액이다.', '국무회의의 심의를 거쳐 대통령의 승인을 받은 경우.', '한국은행이 임치한 증권과 교환할 때.', '차입금 및 상환금액.', '국무회의 심의 및 대통령 승인', '임치소', '지체 없이 지급', '예산에 반영', '기획재정부장관', '국제금융기구 가입', '금전 대부업자 및 공공기관', '개인금융채무자 보호 제도 정비', '개인금융채무자에게 유리한 법률 우선', '금융거래 업무를 하는 기관', '금융시장에 중대한 영향을 미치는 경우', '중요지표 관리위원회', '왜곡, 조작 또는 부정한 방법 사용', '국내 및 국외 금융거래', '금융회사의 지배구조에 관한 법률 시행령', '금융회사의 지배구조에 관한 법률 시행령', '위험관리 절차 및 방법', '소유ㆍ지배구조', '매년 7월 31일', '법 시행에 필요한 사항 규정', '응모총액을 발행총액으로 한다.', '모집 종료 후 지체 없이.', '전액 납입 후.', '정해지지 않으면 응모자가 정해야 한다.', '청약서에 적힌 총액으로 한다.', '금융상품판매업을 영위하는 자', '금융소비자 권익 증진을 위한 시책 수립 및 실시', '올바른 금융상품 선택', '4', '은행', '금융기관에 대하여 예금채권을 가진 자', '금융기관의 이사 및 감사', '한국산업은행이 금융기관에 제공하는 지원', '합병 또는 전환이 금융거래를 위축시키지 않아야 한다.', '6개월']\n"
     ]
    }
   ],
   "source": [
    "print('정답 갯수 :', success)\n",
    "print('오답 갯수 :', fail)\n",
    "print('정확도 :', (success)/(success+fail))\n",
    "print('챗봇에 대답: ', gpt)\n",
    "print('실제 답    : ', act)"
   ]
  }
 ],
 "metadata": {
  "kernelspec": {
   "display_name": "llm-lab",
   "language": "python",
   "name": "python3"
  },
  "language_info": {
   "codemirror_mode": {
    "name": "ipython",
    "version": 3
   },
   "file_extension": ".py",
   "mimetype": "text/x-python",
   "name": "python",
   "nbconvert_exporter": "python",
   "pygments_lexer": "ipython3",
   "version": "3.10.0"
  }
 },
 "nbformat": 4,
 "nbformat_minor": 5
}
