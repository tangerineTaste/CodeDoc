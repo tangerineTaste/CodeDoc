{
 "cells": [
  {
   "cell_type": "code",
   "execution_count": 13,
   "id": "343bba69",
   "metadata": {},
   "outputs": [],
   "source": [
    "from dotenv import load_dotenv\n",
    "from pinecone import Pinecone\n",
    "from langchain_pinecone import PineconeVectorStore\n",
    "from langchain_upstage import UpstageEmbeddings\n",
    "from langchain_openai import OpenAIEmbeddings\n",
    "from langchain import hub\n",
    "from langchain_openai import ChatOpenAI\n",
    "from langchain.chains import RetrievalQA\n",
    "from decouple import config\n",
    "import pandas as pd\n",
    "import numpy as np"
   ]
  },
  {
   "cell_type": "markdown",
   "id": "ef80cf94",
   "metadata": {},
   "source": [
    "# 1. 기본 세팅"
   ]
  },
  {
   "cell_type": "code",
   "execution_count": 2,
   "id": "2f3c3696",
   "metadata": {},
   "outputs": [
    {
     "data": {
      "text/plain": [
       "True"
      ]
     },
     "execution_count": 2,
     "metadata": {},
     "output_type": "execute_result"
    }
   ],
   "source": [
    "load_dotenv()"
   ]
  },
  {
   "cell_type": "code",
   "execution_count": 4,
   "id": "240a5b7e",
   "metadata": {},
   "outputs": [],
   "source": [
    "pc = Pinecone()"
   ]
  },
  {
   "cell_type": "code",
   "execution_count": 5,
   "id": "5f046956",
   "metadata": {},
   "outputs": [],
   "source": [
    "embedding = OpenAIEmbeddings(model=\"text-embedding-3-large\")\n",
    "index_name = config(\"PINECONE_INDEX\")"
   ]
  },
  {
   "cell_type": "code",
   "execution_count": 6,
   "id": "8382e1a1",
   "metadata": {},
   "outputs": [],
   "source": [
    "database = PineconeVectorStore(\n",
    "    embedding=embedding, \n",
    "    index_name=index_name\n",
    ")"
   ]
  },
  {
   "cell_type": "code",
   "execution_count": 7,
   "id": "042bc253",
   "metadata": {},
   "outputs": [],
   "source": [
    "retriever = database.as_retriever(search_kwargs={\"k\": 10})\n",
    "prompt = hub.pull('rlm/rag-prompt')\n",
    "llm = ChatOpenAI(model=\"gpt-4.1-nano\")"
   ]
  },
  {
   "cell_type": "code",
   "execution_count": 8,
   "id": "194b32fe",
   "metadata": {},
   "outputs": [],
   "source": [
    "qa_chain = RetrievalQA.from_chain_type(\n",
    "    llm,\n",
    "    retriever = retriever,\n",
    "    chain_type_kwargs={\"prompt\": prompt},\n",
    ")"
   ]
  },
  {
   "cell_type": "markdown",
   "id": "f0788ed1",
   "metadata": {},
   "source": [
    "# 2. 검증을 위한 문제 데이터셋 로드"
   ]
  },
  {
   "cell_type": "code",
   "execution_count": 11,
   "id": "d4659110",
   "metadata": {},
   "outputs": [
    {
     "data": {
      "text/html": [
       "<div>\n",
       "<style scoped>\n",
       "    .dataframe tbody tr th:only-of-type {\n",
       "        vertical-align: middle;\n",
       "    }\n",
       "\n",
       "    .dataframe tbody tr th {\n",
       "        vertical-align: top;\n",
       "    }\n",
       "\n",
       "    .dataframe thead th {\n",
       "        text-align: right;\n",
       "    }\n",
       "</style>\n",
       "<table border=\"1\" class=\"dataframe\">\n",
       "  <thead>\n",
       "    <tr style=\"text-align: right;\">\n",
       "      <th></th>\n",
       "      <th>법령명</th>\n",
       "      <th>문제유형</th>\n",
       "      <th>난이도</th>\n",
       "      <th>문제내용</th>\n",
       "      <th>보기1</th>\n",
       "      <th>보기2</th>\n",
       "      <th>보기3</th>\n",
       "      <th>보기4</th>\n",
       "      <th>정답</th>\n",
       "      <th>해설</th>\n",
       "    </tr>\n",
       "  </thead>\n",
       "  <tbody>\n",
       "    <tr>\n",
       "      <th>1291</th>\n",
       "      <td>중소기업은행법제54조제6항시행에관한규정(대통령령)(제20653호)(20080229)</td>\n",
       "      <td>사지선다형</td>\n",
       "      <td>중</td>\n",
       "      <td>금융위원회는 민간인출자의 인수신청의 접수를 누구에게 대행하게 할 수 있는가?</td>\n",
       "      <td>A. 중소기업청장</td>\n",
       "      <td>B. 중소기업은행장</td>\n",
       "      <td>C. 재무부장관</td>\n",
       "      <td>D. 국무총리</td>\n",
       "      <td>2</td>\n",
       "      <td>제8조에 따르면, 금융위원회는 중소기업은행장에게 대행하게 할 수 있다.</td>\n",
       "    </tr>\n",
       "  </tbody>\n",
       "</table>\n",
       "</div>"
      ],
      "text/plain": [
       "                                                 법령명   문제유형 난이도  \\\n",
       "1291  중소기업은행법제54조제6항시행에관한규정(대통령령)(제20653호)(20080229)  사지선다형   중   \n",
       "\n",
       "                                            문제내용        보기1         보기2  \\\n",
       "1291  금융위원회는 민간인출자의 인수신청의 접수를 누구에게 대행하게 할 수 있는가?  A. 중소기업청장  B. 중소기업은행장   \n",
       "\n",
       "           보기3      보기4  정답                                       해설  \n",
       "1291  C. 재무부장관  D. 국무총리   2  제8조에 따르면, 금융위원회는 중소기업은행장에게 대행하게 할 수 있다.  "
      ]
     },
     "execution_count": 11,
     "metadata": {},
     "output_type": "execute_result"
    }
   ],
   "source": [
    "df = pd.read_csv(\"법령문제_금융은행보험.csv\")\n",
    "df.sample()"
   ]
  },
  {
   "cell_type": "code",
   "execution_count": null,
   "id": "8b943572",
   "metadata": {},
   "outputs": [
    {
     "name": "stdout",
     "output_type": "stream",
     "text": [
      "아래 문제를 보고 답을 고르시오.\n",
      "만약 보기 중 3번째 보기가 정답이라면 3 이라고 출력하시오.\n",
      "출력 예시: 3\n",
      "업무에 관한 약관에 반드시 기재해야 하는 사항이 아닌 것은?\n",
      "A. 계약해제의 조건\n",
      "B. 급부금의 지급사유\n",
      "C. 대출금의 이자율\n",
      "D. 계약에 관한 권리의 양도\n",
      "\n",
      "3\n"
     ]
    }
   ],
   "source": [
    "sample = df.sample()\n",
    "question = \"\"\"아래 문제를 보고 답을 고르시오.\n",
    "만약 보기 중 3번째 보기가 정답이라면 3 이라고 출력하시오.\n",
    "출력 예시: 3\n",
    "\"\"\"\n",
    "\n",
    "\n",
    "question += sample['문제내용'].values[0] + '\\n'\n",
    "\n",
    "for i in range(1,5):\n",
    "    col = '보기' + str(i)\n",
    "    question += sample[col].values[0] + '\\n'\n",
    "\n",
    "print(question)\n",
    "print(sample['정답'].values[0])\n"
   ]
  },
  {
   "cell_type": "code",
   "execution_count": 39,
   "id": "8efb999f",
   "metadata": {},
   "outputs": [
    {
     "name": "stdout",
     "output_type": "stream",
     "text": [
      "3\n"
     ]
    }
   ],
   "source": [
    "message = qa_chain.invoke({\"query\":question})\n",
    "print(message['result'])"
   ]
  },
  {
   "cell_type": "markdown",
   "id": "a1445b25",
   "metadata": {},
   "source": [
    "# 3. 실제 검증 실행"
   ]
  },
  {
   "cell_type": "code",
   "execution_count": 79,
   "id": "8271a74a",
   "metadata": {},
   "outputs": [],
   "source": [
    "success, fail = 0, 0\n",
    "for i in range(5):\n",
    "    sample = df.loc[i]\n",
    "    question = \"\"\"아래 문제를 보고 답을 고르시오.\n",
    "만약 보기 중 3번째 보기가 정답이라면 3 이라고 출력하시오.\n",
    "출력 예시: 3\n",
    "\"\"\"\n",
    "    question += sample['문제내용'] + '\\n'\n",
    "\n",
    "    for i in range(1,5):\n",
    "        col = '보기' + str(i)\n",
    "        question += sample[col] + '\\n'\n",
    "\n",
    "    message = qa_chain.invoke({\"query\":question})\n",
    "    if message['result'] == str(sample['정답']):\n",
    "        success += 1\n",
    "    else:\n",
    "        fail += 1"
   ]
  },
  {
   "cell_type": "code",
   "execution_count": 82,
   "id": "a6b732d6",
   "metadata": {},
   "outputs": [
    {
     "name": "stdout",
     "output_type": "stream",
     "text": [
      "정답 갯수 : 4\n",
      "오답 갯수 : 1\n",
      "정확도 : 0.8\n"
     ]
    }
   ],
   "source": [
    "print('정답 갯수 :', success)\n",
    "print('오답 갯수 :', fail)\n",
    "print('정확도 :', (success)/(success+fail))\n"
   ]
  }
 ],
 "metadata": {
  "kernelspec": {
   "display_name": "llm(ipykernel)",
   "language": "python",
   "name": "llm-lab"
  },
  "language_info": {
   "codemirror_mode": {
    "name": "ipython",
    "version": 3
   },
   "file_extension": ".py",
   "mimetype": "text/x-python",
   "name": "python",
   "nbconvert_exporter": "python",
   "pygments_lexer": "ipython3",
   "version": "3.10.0"
  }
 },
 "nbformat": 4,
 "nbformat_minor": 5
}
