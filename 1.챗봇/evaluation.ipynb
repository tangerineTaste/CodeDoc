{
 "cells": [
  {
   "cell_type": "markdown",
   "id": "76634b7b",
   "metadata": {},
   "source": [
    "# 0. 패키지 임포트"
   ]
  },
  {
   "cell_type": "code",
   "execution_count": 19,
   "id": "343bba69",
   "metadata": {},
   "outputs": [],
   "source": [
    "from dotenv import load_dotenv\n",
    "from pinecone import Pinecone\n",
    "from langchain_pinecone import PineconeVectorStore\n",
    "from langchain_upstage import UpstageEmbeddings\n",
    "from langchain_openai import OpenAIEmbeddings\n",
    "from langchain import hub\n",
    "from langchain_openai import ChatOpenAI\n",
    "from langchain.chains import RetrievalQA\n",
    "from decouple import config\n",
    "import pandas as pd\n",
    "import numpy as np\n",
    "from sklearn.metrics.pairwise import cosine_similarity"
   ]
  },
  {
   "cell_type": "markdown",
   "id": "ef80cf94",
   "metadata": {},
   "source": [
    "# 1. 기본 세팅"
   ]
  },
  {
   "cell_type": "code",
   "execution_count": 2,
   "id": "2f3c3696",
   "metadata": {},
   "outputs": [
    {
     "data": {
      "text/plain": [
       "True"
      ]
     },
     "execution_count": 2,
     "metadata": {},
     "output_type": "execute_result"
    }
   ],
   "source": [
    "load_dotenv()"
   ]
  },
  {
   "cell_type": "code",
   "execution_count": 3,
   "id": "240a5b7e",
   "metadata": {},
   "outputs": [],
   "source": [
    "pc = Pinecone()"
   ]
  },
  {
   "cell_type": "code",
   "execution_count": 4,
   "id": "5f046956",
   "metadata": {},
   "outputs": [],
   "source": [
    "# embedding = OpenAIEmbeddings(model=\"text-embedding-3-large\")\n",
    "embedding = UpstageEmbeddings(model=\"solar-embedding-1-large\")\n",
    "index_name = config(\"PINECONE_INDEX\")\n"
   ]
  },
  {
   "cell_type": "code",
   "execution_count": 5,
   "id": "8382e1a1",
   "metadata": {},
   "outputs": [],
   "source": [
    "database = PineconeVectorStore(\n",
    "    embedding=embedding, \n",
    "    index_name=index_name\n",
    ")"
   ]
  },
  {
   "cell_type": "code",
   "execution_count": 6,
   "id": "042bc253",
   "metadata": {},
   "outputs": [],
   "source": [
    "retriever = database.as_retriever(search_kwargs={\"k\": 10})\n",
    "prompt = hub.pull('rlm/rag-prompt')\n",
    "llm = ChatOpenAI(model=\"gpt-4.1-nano\")"
   ]
  },
  {
   "cell_type": "code",
   "execution_count": 7,
   "id": "194b32fe",
   "metadata": {},
   "outputs": [],
   "source": [
    "qa_chain = RetrievalQA.from_chain_type(\n",
    "    llm,\n",
    "    retriever = retriever,\n",
    "    chain_type_kwargs={\"prompt\": prompt},\n",
    ")"
   ]
  },
  {
   "cell_type": "markdown",
   "id": "a1445b25",
   "metadata": {},
   "source": [
    "# 2. 선다형 문제로 검증 실행"
   ]
  },
  {
   "cell_type": "code",
   "execution_count": null,
   "id": "f53f9a8f",
   "metadata": {},
   "outputs": [],
   "source": [
    "df = pd.read_csv(\"법령문제_금융은행보험.csv\")\n",
    "df.sample()"
   ]
  },
  {
   "cell_type": "code",
   "execution_count": 9,
   "id": "8271a74a",
   "metadata": {},
   "outputs": [],
   "source": [
    "success, fail = 0, 0\n",
    "gpt = []\n",
    "act = []\n",
    "for i in range(50):\n",
    "    sample = df.loc[i]\n",
    "    question = \"\"\"아래 문제를 보고 답을 고르시오.\n",
    "만약 보기 중 3번째 보기가 정답이라면 3 이라고 출력하시오.\n",
    "보기가 A,B,C,D 라면 1,2,3,4 라고 생각하고 답변하시오.\n",
    "오직 숫자만 출력하시오.\n",
    "출력 예시: 3\n",
    "\"\"\"\n",
    "    question += sample['문제내용'] + '\\n'\n",
    "\n",
    "    for i in range(1,5):\n",
    "        col = '보기' + str(i)\n",
    "        question += sample[col] + '\\n'\n",
    "\n",
    "    message = qa_chain.invoke({\"query\":question})['result']\n",
    "    if message == str(sample['정답']):\n",
    "        success += 1\n",
    "    else:\n",
    "        fail += 1\n",
    "    gpt.append(message)\n",
    "    act.append( str(sample['정답']))"
   ]
  },
  {
   "cell_type": "code",
   "execution_count": 12,
   "id": "a6b732d6",
   "metadata": {},
   "outputs": [
    {
     "name": "stdout",
     "output_type": "stream",
     "text": [
      "정답 갯수 : 26\n",
      "오답 갯수 : 24\n",
      "정확도 : 0.52\n",
      "챗봇에 대답:  ['3', '2', '2', '3', '3', '2', '2', '1', '3', '1', '4', '2', '2', '2', '3', '3', '4', '3', '3', '3', '2', '2', '2', '1', '2', '3', '3', '2', '3', '2', '3', '3', '3', '3', '2', '2', '1', '2', '3', '2', '2', '3', '2', '4', '2', '2', '3', '3', '3', '3']\n",
      "실제 답    :  ['1', '3', '2', '3', '3', '4', '4', '1', '2', '2', '3', '2', '2', '2', '3', '2', '1', '2', '3', '2', '2', '2', '2', '1', '2', '2', '3', '1', '1', '2', '2', '2', '1', '2', '2', '2', '1', '3', '1', '2', '2', '3', '2', '1', '4', '2', '2', '3', '1', '3']\n"
     ]
    }
   ],
   "source": [
    "print('정답 갯수 :', success)\n",
    "print('오답 갯수 :', fail)\n",
    "print('정확도 :', (success)/(success+fail))\n",
    "print('챗봇에 대답: ', gpt)\n",
    "print('실제 답    : ', act)"
   ]
  },
  {
   "cell_type": "markdown",
   "id": "d96923e3",
   "metadata": {},
   "source": [
    "# 3. 단답형 문제로 검증 실행"
   ]
  },
  {
   "cell_type": "code",
   "execution_count": 41,
   "id": "0ac84f16",
   "metadata": {},
   "outputs": [
    {
     "data": {
      "text/html": [
       "<div>\n",
       "<style scoped>\n",
       "    .dataframe tbody tr th:only-of-type {\n",
       "        vertical-align: middle;\n",
       "    }\n",
       "\n",
       "    .dataframe tbody tr th {\n",
       "        vertical-align: top;\n",
       "    }\n",
       "\n",
       "    .dataframe thead th {\n",
       "        text-align: right;\n",
       "    }\n",
       "</style>\n",
       "<table border=\"1\" class=\"dataframe\">\n",
       "  <thead>\n",
       "    <tr style=\"text-align: right;\">\n",
       "      <th></th>\n",
       "      <th>법령명</th>\n",
       "      <th>문제유형</th>\n",
       "      <th>난이도</th>\n",
       "      <th>문제내용</th>\n",
       "      <th>정답</th>\n",
       "      <th>해설</th>\n",
       "    </tr>\n",
       "  </thead>\n",
       "  <tbody>\n",
       "    <tr>\n",
       "      <th>77</th>\n",
       "      <td>금융실명거래및비밀보장에관한법률부칙제7조의규정에의한소득세등의계산방법에관한규칙(총리령)...</td>\n",
       "      <td>단답형</td>\n",
       "      <td>상</td>\n",
       "      <td>금융실명거래및비밀보장에관한법률부칙 제7조의 규정에 의한 소득세 등을 원천징수하는 목...</td>\n",
       "      <td>납세자의 불편 해소</td>\n",
       "      <td>제1조에 명시된 목적이다.</td>\n",
       "    </tr>\n",
       "  </tbody>\n",
       "</table>\n",
       "</div>"
      ],
      "text/plain": [
       "                                                  법령명 문제유형 난이도  \\\n",
       "77  금융실명거래및비밀보장에관한법률부칙제7조의규정에의한소득세등의계산방법에관한규칙(총리령)...  단답형   상   \n",
       "\n",
       "                                                 문제내용          정답  \\\n",
       "77  금융실명거래및비밀보장에관한법률부칙 제7조의 규정에 의한 소득세 등을 원천징수하는 목...  납세자의 불편 해소   \n",
       "\n",
       "                해설  \n",
       "77  제1조에 명시된 목적이다.  "
      ]
     },
     "execution_count": 41,
     "metadata": {},
     "output_type": "execute_result"
    }
   ],
   "source": [
    "df = pd.read_csv(\"단답형_문제.csv\")\n",
    "df.sample()"
   ]
  },
  {
   "cell_type": "code",
   "execution_count": 43,
   "id": "ef55c78e",
   "metadata": {},
   "outputs": [],
   "source": [
    "results = []\n",
    "SIMILARITY_THRESHOLD = 0.7"
   ]
  },
  {
   "cell_type": "code",
   "execution_count": 44,
   "id": "b4bb7cc7",
   "metadata": {},
   "outputs": [],
   "source": [
    "success, fail = 0, 0\n",
    "gpt = []\n",
    "act = []\n",
    "for i in range(50):\n",
    "\n",
    "    question = \"\"\"아래 문제를 보고 짧고 간단하게 답을 단답식으로 제출하시오.\n",
    "    좋은 답변들 예시 : ['대주주와의 거래', '지배구조법 대주주', '금융위원회', '제12조', '5%']\n",
    "    '대통령령으로 정하는 기간은 3개월이다.' -> '3개월' \n",
    "    '개인금융채권의 원금이 5천만원 이상이다.'-> '5천만원'\n",
    "    이와같이 사족없이 30자 이내로 핵심 단어의 단답형으로 답변하시오.\n",
    "    \"\"\"\n",
    "\n",
    "    sample = df.loc[i]\n",
    "    question += sample['문제내용']\n",
    "    answer = sample['정답']\n",
    "\n",
    "\n",
    "    \n",
    "    message = qa_chain.invoke({\"query\": question})['result']\n",
    "\n",
    "    ground_truth_embedding = embedding.embed_query(answer)\n",
    "    prediction_embedding = embedding.embed_query(message)\n",
    "    \n",
    "    score = cosine_similarity(\n",
    "        np.array(ground_truth_embedding).reshape(1, -1),\n",
    "        np.array(prediction_embedding).reshape(1, -1)\n",
    "    )[0][0]\n",
    "    \n",
    "    if score >= SIMILARITY_THRESHOLD:\n",
    "        success += 1\n",
    "    else:\n",
    "        fail += 1\n",
    "        \n",
    "    gpt.append(message)\n",
    "    act.append(answer)"
   ]
  },
  {
   "cell_type": "code",
   "execution_count": 45,
   "id": "58f867df",
   "metadata": {},
   "outputs": [
    {
     "name": "stdout",
     "output_type": "stream",
     "text": [
      "정답 갯수 : 20\n",
      "오답 갯수 : 30\n",
      "정확도 : 0.4\n",
      "챗봇에 대답:  ['개인금융채권 정의', '대체로 정하는 사유 없음', '3개월', '5천만원', '추심 위탁 통지 방식은 별도 규정 없음', '개인금융채권은 채권금융회사 등이 금전대부, 양수, 할인 등으로 보유한 채권.', '채권금융회사등', '채무조정은 채무내용 변경', '추심은 채무자가 변제하지 않는 채권을 소재파악, 변제촉구, 수령행위하는 것.', '기한의 이익 상실예정일 통지 기한', '개인금융채권을 추심하는 자로서 채권금융회사, 채권추심회사, 위임직채권추심인, 대부업자 등.', '개인금융채권 관련 규정은 법률 제14조의2(과징금) 및 제7조(이자율 제한) 등에 명시되어 있다.', '개인금융채권이 채무조정이 끝났거나, 사망 여부가 미확정되었거나, 소송중인 경우, 또는 대통령령으로 정하는 권리 또는 상황일 때 양도하지 못한다.', '국제금융기구 출자규정', '자금중개회사의 인가', '출자금 단위 결정권자', '2019년 11월 26일', '02-2100-6114', '국제금융기구 출자금반영', '금융위원회 위원장', '법률 제16580호', '금융위원회', '금융거래지표법', '승인신청서  \\n시험자료  \\n서류첨부', '최소 5명', '중단사유 안내', '2024년 1월 2일', '제33조, 제8조', '금융거래지표법', '기초자료란 중요지표 산출에 이용되는 시장거래 자료', '2019', '중요지표 산출기관의 의무는 업무중단 신고', '- 지정 기한: 6개월  \\r\\n- 사유: 업종변경, 변경, 승인신청 등  \\r\\n- 법령: 대통령령으로 정하는 기준', '5조 1000억', '금융시장 안정, 건전경영, 소비자보호', '금융업 수행 회사', '2021년 6월 30일', '금융복합기업집단법', '지정 해제 사유: 요건 미충족', '내부거래: 대주주 상대 행위', '대주주와의 거래 제한', '금융위원회', '금융복합기업집단법 제12조', '5%', '“특수관계인”', '신용공여한도, 신고, 공시', '“특수관계인”', '금융위원회 인가, 건전성 확보, 사전 승인', '금융기관은 금융업 영위 위한 기관이다.', '부실채권 또는 자산이 부채를 초과하여 정상경영 어려움이 명백한 금융기관']\n",
      "실제 답    :  ['법 제3조제1항 각 호의 권리로 담보된 개인금융채권', '연체기간이나 연체횟수를 초과한 경우', '3개월', '5천만원', '서면 또는 전자문서', '채권금융회사가 보유한 개인금융채무자에 대한 금전채권', '개인금융채권을 보유한 자', '채무의 내용을 변경하는 것', '채권의 만족을 얻기 위한 모든 행위', '10영업일 전', '개인금융채권을 추심하는 자', '제7조', '채무조정 절차가 끝나지 않은 경우', '제1조의2', '한국은행', '해당 국제금융기구', '2024. 12. 3.', '044-215-8725', '예산', '한국은행 총재', '제16580호', '대통령', '금융거래지표법 시행령', '정관 또는 이에 준하는 규정', '5명', '금융 계약 상대방에 대한 중요지표 산출 중단 사실의 안내', '2020년 11월 24일', '제8조', '금융거래지표법', '시장 거래에 기반한 수치', '2019', '산출업무규정 제정', '7월 31일', '자기자본의 100분의 5 또는 50억원 중 적은 금액', '감독 및 시행에 필요한 사항 규정', '금융업 영위를 위한 전산 관련 용역 제공', '2021. 6. 30.', '금융복합기업집단법', '요건 미충족', '대주주와의 거래', '지배구조법 대주주', '금융위원회', '제12조', '5%', '합병 또는 전환으로 신설되는 금융기관의 주주', '자금지원의 규모', '합병 또는 전환으로 신설되는 금융기관의 주주', '자금지원의 규모', '은행, 보험회사 등', '부채가 자산을 초과하는 금융기관']\n"
     ]
    }
   ],
   "source": [
    "print('정답 갯수 :', success)\n",
    "print('오답 갯수 :', fail)\n",
    "print('정확도 :', (success)/(success+fail))\n",
    "print('챗봇에 대답: ', gpt)\n",
    "print('실제 답    : ', act)"
   ]
  }
 ],
 "metadata": {
  "kernelspec": {
   "display_name": "llm-lab",
   "language": "python",
   "name": "python3"
  },
  "language_info": {
   "codemirror_mode": {
    "name": "ipython",
    "version": 3
   },
   "file_extension": ".py",
   "mimetype": "text/x-python",
   "name": "python",
   "nbconvert_exporter": "python",
   "pygments_lexer": "ipython3",
   "version": "3.10.0"
  }
 },
 "nbformat": 4,
 "nbformat_minor": 5
}
