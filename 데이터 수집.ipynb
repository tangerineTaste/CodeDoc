{
 "cells": [
  {
   "cell_type": "code",
   "execution_count": null,
   "id": "015fdf05",
   "metadata": {
    "vscode": {
     "languageId": "plaintext"
    }
   },
   "outputs": [],
   "source": []
  },
  {
   "cell_type": "markdown",
   "id": "578c488c",
   "metadata": {},
   "source": [
    "# 핵심 API 호출 순서: 질문 검색 -> 답변 수집 -> 데이터 통합 -> 벡터 생성\n",
    "## 주요 API 엔드포인트\n",
    "```\n",
    "1. Python 에러 질문 검색\n",
    "GET /search?q=python+error&site=stackoverflow&tagged=python&filter=withbody\n",
    "\n",
    "# 2. 특정 질문들의 답변 수집 (배치)\n",
    "GET /questions/{ids}/answers?site=stackoverflow&filter=withbody&sort=votes\n",
    "\n",
    "# 3. 질문 상세 정보 (필요시)\n",
    "GET /questions/{id}?site=stackoverflow&filter=withbody\n",
    "```"
   ]
  },
  {
   "cell_type": "code",
   "execution_count": null,
   "id": "d2f6bc93",
   "metadata": {
    "vscode": {
     "languageId": "plaintext"
    }
   },
   "outputs": [],
   "source": [
    "import requests\n",
    "import time\n",
    "import json\n",
    "import datetime\n",
    "\n",
    "# 특정 에러 타입(TypeError) 검색\n",
    "base_url = \"https://api.stackexchange.com/2.3\"\n",
    "api_key = api_key\n",
    "params = {\n",
    "    'site':'stackoverflow', # 데이터 수집할 사이트(stackoverflow)\n",
    "    'q':'python TypeError', # 검색 키워드(TypeError)\n",
    "    'tagged':'python', #특정 태그(python)가 있는 질문만 필터링\n",
    "    'sort':'votes', #정렬 기준(득표수)\n",
    "    'order':'decs', #내림차순 정렬\n",
    "    'pagesize':min(100, 100), #한 번에 가져올 결과 수(최대 100개)\n",
    "    'filter':'withbody', #응답에 포함할 필드(withbody=질문 본문 포함)\n",
    "    'key': api_key\n",
    "}\n",
    "ddddd"
   ]
  }
 ],
 "metadata": {
  "language_info": {
   "name": "python"
  }
 },
 "nbformat": 4,
 "nbformat_minor": 5
}
